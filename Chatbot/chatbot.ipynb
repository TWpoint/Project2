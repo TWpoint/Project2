{
 "cells": [
  {
   "cell_type": "markdown",
   "metadata": {},
   "source": [
    "<h1 style = \"text-align:center\"> Chatbot for Pirate Recruitment </h1>\n",
    "<img src = \"https://cdn-images-1.medium.com/max/800/1*SAHhdvu3v9l81OjsfBa_Yw.jpeg\" />\n",
    "\n",
    "Going Merry is a chatbot that helps in recruitment of pirates all around the world. this answer user's simple questions regarding the recruitment process, pre-requisites, etc."
   ]
  },
  {
   "cell_type": "markdown",
   "metadata": {},
   "source": [
    "<h2>Libraries</h2>\n",
    "The main libraries that are used are tensorflow2, keras , numpy and pandas"
   ]
  },
  {
   "cell_type": "code",
   "execution_count": 31,
   "metadata": {
    "id": "70nBFLDY0kcP"
   },
   "outputs": [],
   "source": [
    "#importing the libraries\n",
    "import tensorflow as tf\n",
    "import numpy as np\n",
    "import pandas as pd\n",
    "import json\n",
    "import nltk\n",
    "from tensorflow.keras.preprocessing.text import Tokenizer\n",
    "from tensorflow.keras.layers import Input, Embedding, LSTM , Dense,GlobalMaxPooling1D,Flatten\n",
    "from tensorflow.keras.models import Model\n",
    "import matplotlib.pyplot as plt"
   ]
  },
  {
   "cell_type": "markdown",
   "metadata": {},
   "source": [
    "<h2> Importing the Data </h2>\n",
    "\n",
    "The data is stored in a json file, which can be imported and used as a pandas dataframe.\n",
    "This data was manually created by me. hence, it's not that big.<br>\n",
    "we all know that deep learning requires large chunks of data. but, That is not the case here. I have utilized a neural network architecture powerful enough to handle this small amount of data"
   ]
  },
  {
   "cell_type": "code",
   "execution_count": 37,
   "metadata": {
    "id": "Rvgn3orx0sAJ"
   },
   "outputs": [],
   "source": [
    "#importing the dataset\n",
    "with open('content.json') as content:\n",
    "  data1 = json.load(content)"
   ]
  },
  {
   "cell_type": "code",
   "execution_count": 38,
   "metadata": {
    "id": "PGGvrVhl07o8"
   },
   "outputs": [],
   "source": [
    "#getting all the data to lists\n",
    "tags = []\n",
    "inputs = []\n",
    "responses={}\n",
    "for intent in data1['intents']:\n",
    "  responses[intent['tag']]=intent['responses']\n",
    "  for lines in intent['input']:\n",
    "    inputs.append(lines)\n",
    "    tags.append(intent['tag'])"
   ]
  },
  {
   "cell_type": "code",
   "execution_count": 39,
   "metadata": {
    "id": "ruibWXd_3xFR"
   },
   "outputs": [],
   "source": [
    "#converting to dataframe\n",
    "data = pd.DataFrame({\"inputs\":inputs,\n",
    "                     \"tags\":tags})"
   ]
  },
  {
   "cell_type": "code",
   "execution_count": 40,
   "metadata": {
    "colab": {
     "base_uri": "https://localhost:8080/",
     "height": 419
    },
    "id": "elc0th634mTr",
    "outputId": "e4d9b7bc-3067-4c05-be6c-c0b3393c6d7b"
   },
   "outputs": [
    {
     "data": {
      "text/plain": "                 inputs      tags\n0                 hello  greeting\n1              hi there  greeting\n2      nice to meet you  greeting\n3                    hi  greeting\n4             hey there  greeting\n..                  ...       ...\n112  for a table at 4pm      time\n113  for a table at 1pm      time\n114      looking at 1pm      time\n115      looking at 2pm      time\n116   reserving for 3pm      time\n\n[117 rows x 2 columns]",
      "text/html": "<div>\n<style scoped>\n    .dataframe tbody tr th:only-of-type {\n        vertical-align: middle;\n    }\n\n    .dataframe tbody tr th {\n        vertical-align: top;\n    }\n\n    .dataframe thead th {\n        text-align: right;\n    }\n</style>\n<table border=\"1\" class=\"dataframe\">\n  <thead>\n    <tr style=\"text-align: right;\">\n      <th></th>\n      <th>inputs</th>\n      <th>tags</th>\n    </tr>\n  </thead>\n  <tbody>\n    <tr>\n      <th>0</th>\n      <td>hello</td>\n      <td>greeting</td>\n    </tr>\n    <tr>\n      <th>1</th>\n      <td>hi there</td>\n      <td>greeting</td>\n    </tr>\n    <tr>\n      <th>2</th>\n      <td>nice to meet you</td>\n      <td>greeting</td>\n    </tr>\n    <tr>\n      <th>3</th>\n      <td>hi</td>\n      <td>greeting</td>\n    </tr>\n    <tr>\n      <th>4</th>\n      <td>hey there</td>\n      <td>greeting</td>\n    </tr>\n    <tr>\n      <th>...</th>\n      <td>...</td>\n      <td>...</td>\n    </tr>\n    <tr>\n      <th>112</th>\n      <td>for a table at 4pm</td>\n      <td>time</td>\n    </tr>\n    <tr>\n      <th>113</th>\n      <td>for a table at 1pm</td>\n      <td>time</td>\n    </tr>\n    <tr>\n      <th>114</th>\n      <td>looking at 1pm</td>\n      <td>time</td>\n    </tr>\n    <tr>\n      <th>115</th>\n      <td>looking at 2pm</td>\n      <td>time</td>\n    </tr>\n    <tr>\n      <th>116</th>\n      <td>reserving for 3pm</td>\n      <td>time</td>\n    </tr>\n  </tbody>\n</table>\n<p>117 rows × 2 columns</p>\n</div>"
     },
     "execution_count": 40,
     "metadata": {},
     "output_type": "execute_result"
    }
   ],
   "source": [
    "#printing the data\n",
    "data"
   ]
  },
  {
   "cell_type": "code",
   "execution_count": 41,
   "metadata": {
    "id": "xd5Z3_oFf7iA"
   },
   "outputs": [],
   "source": [
    "data = data.sample(frac=1)"
   ]
  },
  {
   "cell_type": "markdown",
   "metadata": {},
   "source": [
    "<h2> Pre-Processing </h2>\n",
    "\n",
    "Important pre-processing such as removing the punctuations, converting to lowercase, encoding the textual data to numerical data are done"
   ]
  },
  {
   "cell_type": "code",
   "execution_count": 42,
   "metadata": {
    "colab": {
     "base_uri": "https://localhost:8080/",
     "height": 419
    },
    "id": "mm4koLwuGGJb",
    "outputId": "94d4af63-5fe5-42b9-aced-8d65e5616060"
   },
   "outputs": [
    {
     "data": {
      "text/plain": "                                inputs          tags\n30                               seven        guests\n92    any sweet food items on the menu         sweet\n34                                   1        guests\n83  any savoury food items on the menu       savoury\n18                           table for  reservations\n..                                 ...           ...\n7                  hi nice to meet you      greeting\n61                what is your address      location\n80                        savoury food       savoury\n3                                   hi      greeting\n91                  i enjoy sweet food         sweet\n\n[117 rows x 2 columns]",
      "text/html": "<div>\n<style scoped>\n    .dataframe tbody tr th:only-of-type {\n        vertical-align: middle;\n    }\n\n    .dataframe tbody tr th {\n        vertical-align: top;\n    }\n\n    .dataframe thead th {\n        text-align: right;\n    }\n</style>\n<table border=\"1\" class=\"dataframe\">\n  <thead>\n    <tr style=\"text-align: right;\">\n      <th></th>\n      <th>inputs</th>\n      <th>tags</th>\n    </tr>\n  </thead>\n  <tbody>\n    <tr>\n      <th>30</th>\n      <td>seven</td>\n      <td>guests</td>\n    </tr>\n    <tr>\n      <th>92</th>\n      <td>any sweet food items on the menu</td>\n      <td>sweet</td>\n    </tr>\n    <tr>\n      <th>34</th>\n      <td>1</td>\n      <td>guests</td>\n    </tr>\n    <tr>\n      <th>83</th>\n      <td>any savoury food items on the menu</td>\n      <td>savoury</td>\n    </tr>\n    <tr>\n      <th>18</th>\n      <td>table for</td>\n      <td>reservations</td>\n    </tr>\n    <tr>\n      <th>...</th>\n      <td>...</td>\n      <td>...</td>\n    </tr>\n    <tr>\n      <th>7</th>\n      <td>hi nice to meet you</td>\n      <td>greeting</td>\n    </tr>\n    <tr>\n      <th>61</th>\n      <td>what is your address</td>\n      <td>location</td>\n    </tr>\n    <tr>\n      <th>80</th>\n      <td>savoury food</td>\n      <td>savoury</td>\n    </tr>\n    <tr>\n      <th>3</th>\n      <td>hi</td>\n      <td>greeting</td>\n    </tr>\n    <tr>\n      <th>91</th>\n      <td>i enjoy sweet food</td>\n      <td>sweet</td>\n    </tr>\n  </tbody>\n</table>\n<p>117 rows × 2 columns</p>\n</div>"
     },
     "execution_count": 42,
     "metadata": {},
     "output_type": "execute_result"
    }
   ],
   "source": [
    "#removing punctuations\n",
    "import string\n",
    "data['inputs'] = data['inputs'].apply(lambda wrd:[ltrs.lower() for ltrs in wrd if ltrs not in string.punctuation])\n",
    "data['inputs'] = data['inputs'].apply(lambda wrd: ''.join(wrd))\n",
    "data"
   ]
  },
  {
   "cell_type": "code",
   "execution_count": 44,
   "metadata": {
    "id": "eNahMu32_h1Q"
   },
   "outputs": [],
   "source": [
    "#tokenize the data\n",
    "from tensorflow.keras.preprocessing.text import Tokenizer\n",
    "tokenizer = Tokenizer(num_words=2000)\n",
    "tokenizer.fit_on_texts(data['inputs'])\n",
    "train = tokenizer.texts_to_sequences(data['inputs'])\n",
    "#apply padding\n",
    "from tensorflow.keras.preprocessing.sequence import pad_sequences\n",
    "x_train = pad_sequences(train)\n",
    "\n",
    "#encoding the outputs\n",
    "from sklearn.preprocessing import LabelEncoder\n",
    "le = LabelEncoder()\n",
    "y_train = le.fit_transform(data['tags'])"
   ]
  },
  {
   "cell_type": "markdown",
   "metadata": {},
   "source": [
    "Tensorflow's tokenizer assigns a unique token to each distinct word. and padding is done to get all the data to the same length so as to send it to an rnn layer"
   ]
  },
  {
   "cell_type": "code",
   "execution_count": 45,
   "metadata": {
    "colab": {
     "base_uri": "https://localhost:8080/",
     "height": 34
    },
    "id": "A-VY9ZnyM_65",
    "outputId": "13522291-df62-4de7-9bba-7b09903d9fa6"
   },
   "outputs": [
    {
     "name": "stdout",
     "output_type": "stream",
     "text": [
      "9\n"
     ]
    }
   ],
   "source": [
    "input_shape = x_train.shape[1]\n",
    "print(input_shape)"
   ]
  },
  {
   "cell_type": "code",
   "execution_count": 46,
   "metadata": {
    "colab": {
     "base_uri": "https://localhost:8080/",
     "height": 51
    },
    "id": "OaXDwXOIAkR4",
    "outputId": "f3ea1290-2abc-4759-b692-3c8860559c74"
   },
   "outputs": [
    {
     "name": "stdout",
     "output_type": "stream",
     "text": [
      "number of unique words :  116\n",
      "output length:  10\n"
     ]
    }
   ],
   "source": [
    "#define vocabulary\n",
    "vocabulary = len(tokenizer.word_index)\n",
    "print(\"number of unique words : \",vocabulary)\n",
    "output_length = le.classes_.shape[0]\n",
    "print(\"output length: \",output_length)"
   ]
  },
  {
   "cell_type": "markdown",
   "metadata": {},
   "source": [
    "<h2>Neural Network</h2>\n",
    "\n",
    "The Network consist of an embedding layer which is one of the most powerful things in the field of natural language processing. the outputs of the embedding layer is the input of the reccurent layer with lstm gate. then, the output is flattened and a regular dense layer is used with a softmax activation function.\n",
    "\n",
    "The main part is the embedding layer which gives has a corresponding vector for each word in the dataset"
   ]
  },
  {
   "cell_type": "code",
   "execution_count": 47,
   "metadata": {
    "id": "vaCZkzTEJCd6"
   },
   "outputs": [],
   "source": [
    "#creating the model\n",
    "\n",
    "i = Input(shape=(input_shape,))\n",
    "x = Embedding(vocabulary+1,10)(i)\n",
    "x = LSTM(10,return_sequences=True)(x)\n",
    "x = Flatten()(x)\n",
    "x = Dense(output_length,activation=\"softmax\")(x)\n",
    "model  = Model(i,x)"
   ]
  },
  {
   "cell_type": "code",
   "execution_count": 48,
   "metadata": {
    "id": "rqF-km_SK04Q"
   },
   "outputs": [],
   "source": [
    "#compiling the model\n",
    "model.compile(loss=\"sparse_categorical_crossentropy\",optimizer='adam',metrics=['accuracy'])"
   ]
  },
  {
   "cell_type": "code",
   "execution_count": 49,
   "metadata": {
    "colab": {
     "base_uri": "https://localhost:8080/",
     "height": 1000
    },
    "id": "Iml1HlsFLUFY",
    "outputId": "9102eefa-b6e3-43fc-bad1-1ae378688150"
   },
   "outputs": [
    {
     "name": "stdout",
     "output_type": "stream",
     "text": [
      "Epoch 1/200\n",
      "4/4 [==============================] - 2s 3ms/step - loss: 2.3026 - accuracy: 0.0342\n",
      "Epoch 2/200\n",
      "4/4 [==============================] - 0s 4ms/step - loss: 2.2992 - accuracy: 0.0513\n",
      "Epoch 3/200\n",
      "4/4 [==============================] - 0s 4ms/step - loss: 2.2952 - accuracy: 0.1709\n",
      "Epoch 4/200\n",
      "4/4 [==============================] - 0s 5ms/step - loss: 2.2920 - accuracy: 0.2051\n",
      "Epoch 5/200\n",
      "4/4 [==============================] - 0s 3ms/step - loss: 2.2882 - accuracy: 0.1966\n",
      "Epoch 6/200\n",
      "4/4 [==============================] - 0s 5ms/step - loss: 2.2837 - accuracy: 0.2222\n",
      "Epoch 7/200\n",
      "4/4 [==============================] - 0s 4ms/step - loss: 2.2795 - accuracy: 0.2222\n",
      "Epoch 8/200\n",
      "4/4 [==============================] - 0s 4ms/step - loss: 2.2744 - accuracy: 0.2735\n",
      "Epoch 9/200\n",
      "4/4 [==============================] - 0s 3ms/step - loss: 2.2681 - accuracy: 0.2991\n",
      "Epoch 10/200\n",
      "4/4 [==============================] - 0s 4ms/step - loss: 2.2621 - accuracy: 0.2991\n",
      "Epoch 11/200\n",
      "4/4 [==============================] - 0s 4ms/step - loss: 2.2547 - accuracy: 0.3077\n",
      "Epoch 12/200\n",
      "4/4 [==============================] - 0s 4ms/step - loss: 2.2468 - accuracy: 0.3077\n",
      "Epoch 13/200\n",
      "4/4 [==============================] - 0s 3ms/step - loss: 2.2393 - accuracy: 0.3077\n",
      "Epoch 14/200\n",
      "4/4 [==============================] - 0s 4ms/step - loss: 2.2294 - accuracy: 0.3077\n",
      "Epoch 15/200\n",
      "4/4 [==============================] - 0s 4ms/step - loss: 2.2215 - accuracy: 0.2479\n",
      "Epoch 16/200\n",
      "4/4 [==============================] - 0s 3ms/step - loss: 2.2126 - accuracy: 0.2222\n",
      "Epoch 17/200\n",
      "4/4 [==============================] - 0s 4ms/step - loss: 2.2051 - accuracy: 0.2051\n",
      "Epoch 18/200\n",
      "4/4 [==============================] - 0s 4ms/step - loss: 2.2001 - accuracy: 0.1624\n",
      "Epoch 19/200\n",
      "4/4 [==============================] - 0s 3ms/step - loss: 2.1898 - accuracy: 0.1624\n",
      "Epoch 20/200\n",
      "4/4 [==============================] - 0s 4ms/step - loss: 2.1814 - accuracy: 0.1624\n",
      "Epoch 21/200\n",
      "4/4 [==============================] - 0s 4ms/step - loss: 2.1721 - accuracy: 0.1624\n",
      "Epoch 22/200\n",
      "4/4 [==============================] - 0s 4ms/step - loss: 2.1618 - accuracy: 0.1795\n",
      "Epoch 23/200\n",
      "4/4 [==============================] - 0s 3ms/step - loss: 2.1512 - accuracy: 0.1795\n",
      "Epoch 24/200\n",
      "4/4 [==============================] - 0s 4ms/step - loss: 2.1408 - accuracy: 0.1795\n",
      "Epoch 25/200\n",
      "4/4 [==============================] - 0s 3ms/step - loss: 2.1267 - accuracy: 0.1880\n",
      "Epoch 26/200\n",
      "4/4 [==============================] - 0s 4ms/step - loss: 2.1135 - accuracy: 0.1880\n",
      "Epoch 27/200\n",
      "4/4 [==============================] - 0s 4ms/step - loss: 2.0977 - accuracy: 0.1795\n",
      "Epoch 28/200\n",
      "4/4 [==============================] - 0s 4ms/step - loss: 2.0832 - accuracy: 0.1966\n",
      "Epoch 29/200\n",
      "4/4 [==============================] - 0s 3ms/step - loss: 2.0662 - accuracy: 0.2051\n",
      "Epoch 30/200\n",
      "4/4 [==============================] - 0s 4ms/step - loss: 2.0487 - accuracy: 0.2564\n",
      "Epoch 31/200\n",
      "4/4 [==============================] - 0s 4ms/step - loss: 2.0298 - accuracy: 0.2821\n",
      "Epoch 32/200\n",
      "4/4 [==============================] - 0s 3ms/step - loss: 2.0094 - accuracy: 0.2991\n",
      "Epoch 33/200\n",
      "4/4 [==============================] - 0s 4ms/step - loss: 1.9903 - accuracy: 0.3333\n",
      "Epoch 34/200\n",
      "4/4 [==============================] - 0s 3ms/step - loss: 1.9694 - accuracy: 0.3419\n",
      "Epoch 35/200\n",
      "4/4 [==============================] - 0s 4ms/step - loss: 1.9484 - accuracy: 0.3932\n",
      "Epoch 36/200\n",
      "4/4 [==============================] - 0s 3ms/step - loss: 1.9271 - accuracy: 0.3932\n",
      "Epoch 37/200\n",
      "4/4 [==============================] - 0s 4ms/step - loss: 1.9062 - accuracy: 0.3932\n",
      "Epoch 38/200\n",
      "4/4 [==============================] - 0s 3ms/step - loss: 1.8854 - accuracy: 0.4017\n",
      "Epoch 39/200\n",
      "4/4 [==============================] - 0s 3ms/step - loss: 1.8639 - accuracy: 0.3932\n",
      "Epoch 40/200\n",
      "4/4 [==============================] - 0s 4ms/step - loss: 1.8468 - accuracy: 0.4103\n",
      "Epoch 41/200\n",
      "4/4 [==============================] - 0s 4ms/step - loss: 1.8227 - accuracy: 0.4017\n",
      "Epoch 42/200\n",
      "4/4 [==============================] - 0s 3ms/step - loss: 1.8006 - accuracy: 0.4274\n",
      "Epoch 43/200\n",
      "4/4 [==============================] - 0s 4ms/step - loss: 1.7859 - accuracy: 0.4274\n",
      "Epoch 44/200\n",
      "4/4 [==============================] - 0s 3ms/step - loss: 1.7630 - accuracy: 0.4359\n",
      "Epoch 45/200\n",
      "4/4 [==============================] - 0s 4ms/step - loss: 1.7397 - accuracy: 0.4444\n",
      "Epoch 46/200\n",
      "4/4 [==============================] - 0s 3ms/step - loss: 1.7212 - accuracy: 0.4359\n",
      "Epoch 47/200\n",
      "4/4 [==============================] - 0s 4ms/step - loss: 1.7004 - accuracy: 0.4359\n",
      "Epoch 48/200\n",
      "4/4 [==============================] - 0s 4ms/step - loss: 1.6809 - accuracy: 0.4615\n",
      "Epoch 49/200\n",
      "4/4 [==============================] - 0s 3ms/step - loss: 1.6597 - accuracy: 0.4615\n",
      "Epoch 50/200\n",
      "4/4 [==============================] - 0s 3ms/step - loss: 1.6456 - accuracy: 0.4615\n",
      "Epoch 51/200\n",
      "4/4 [==============================] - 0s 4ms/step - loss: 1.6249 - accuracy: 0.4872\n",
      "Epoch 52/200\n",
      "4/4 [==============================] - 0s 4ms/step - loss: 1.6046 - accuracy: 0.4957\n",
      "Epoch 53/200\n",
      "4/4 [==============================] - 0s 3ms/step - loss: 1.5848 - accuracy: 0.4957\n",
      "Epoch 54/200\n",
      "4/4 [==============================] - 0s 3ms/step - loss: 1.5698 - accuracy: 0.5043\n",
      "Epoch 55/200\n",
      "4/4 [==============================] - 0s 9ms/step - loss: 1.5494 - accuracy: 0.5214\n",
      "Epoch 56/200\n",
      "4/4 [==============================] - 0s 6ms/step - loss: 1.5314 - accuracy: 0.5385\n",
      "Epoch 57/200\n",
      "4/4 [==============================] - 0s 5ms/step - loss: 1.5124 - accuracy: 0.5556\n",
      "Epoch 58/200\n",
      "4/4 [==============================] - 0s 5ms/step - loss: 1.4956 - accuracy: 0.5726\n",
      "Epoch 59/200\n",
      "4/4 [==============================] - 0s 4ms/step - loss: 1.4788 - accuracy: 0.5470\n",
      "Epoch 60/200\n",
      "4/4 [==============================] - 0s 4ms/step - loss: 1.4609 - accuracy: 0.5470\n",
      "Epoch 61/200\n",
      "4/4 [==============================] - 0s 4ms/step - loss: 1.4425 - accuracy: 0.5726\n",
      "Epoch 62/200\n",
      "4/4 [==============================] - 0s 4ms/step - loss: 1.4309 - accuracy: 0.5812\n",
      "Epoch 63/200\n",
      "4/4 [==============================] - 0s 4ms/step - loss: 1.4096 - accuracy: 0.5983\n",
      "Epoch 64/200\n",
      "4/4 [==============================] - 0s 3ms/step - loss: 1.3930 - accuracy: 0.5983\n",
      "Epoch 65/200\n",
      "4/4 [==============================] - 0s 3ms/step - loss: 1.3762 - accuracy: 0.6068\n",
      "Epoch 66/200\n",
      "4/4 [==============================] - 0s 4ms/step - loss: 1.3594 - accuracy: 0.6325\n",
      "Epoch 67/200\n",
      "4/4 [==============================] - 0s 3ms/step - loss: 1.3442 - accuracy: 0.6154\n",
      "Epoch 68/200\n",
      "4/4 [==============================] - 0s 3ms/step - loss: 1.3265 - accuracy: 0.6239\n",
      "Epoch 69/200\n",
      "4/4 [==============================] - 0s 4ms/step - loss: 1.3114 - accuracy: 0.6325\n",
      "Epoch 70/200\n",
      "4/4 [==============================] - 0s 3ms/step - loss: 1.2933 - accuracy: 0.6410\n",
      "Epoch 71/200\n",
      "4/4 [==============================] - 0s 4ms/step - loss: 1.2795 - accuracy: 0.6410\n",
      "Epoch 72/200\n",
      "4/4 [==============================] - 0s 4ms/step - loss: 1.2630 - accuracy: 0.6410\n",
      "Epoch 73/200\n",
      "4/4 [==============================] - 0s 3ms/step - loss: 1.2500 - accuracy: 0.6410\n",
      "Epoch 74/200\n",
      "4/4 [==============================] - 0s 3ms/step - loss: 1.2362 - accuracy: 0.6325\n",
      "Epoch 75/200\n",
      "4/4 [==============================] - 0s 4ms/step - loss: 1.2146 - accuracy: 0.6325\n",
      "Epoch 76/200\n",
      "4/4 [==============================] - 0s 3ms/step - loss: 1.2048 - accuracy: 0.6325\n",
      "Epoch 77/200\n",
      "4/4 [==============================] - 0s 3ms/step - loss: 1.1868 - accuracy: 0.6325\n",
      "Epoch 78/200\n",
      "4/4 [==============================] - 0s 4ms/step - loss: 1.1730 - accuracy: 0.6325\n",
      "Epoch 79/200\n",
      "4/4 [==============================] - 0s 3ms/step - loss: 1.1571 - accuracy: 0.6410\n",
      "Epoch 80/200\n",
      "4/4 [==============================] - 0s 3ms/step - loss: 1.1434 - accuracy: 0.6410\n",
      "Epoch 81/200\n",
      "4/4 [==============================] - 0s 3ms/step - loss: 1.1292 - accuracy: 0.6410\n",
      "Epoch 82/200\n",
      "4/4 [==============================] - 0s 3ms/step - loss: 1.1173 - accuracy: 0.6410\n",
      "Epoch 83/200\n",
      "4/4 [==============================] - 0s 4ms/step - loss: 1.0995 - accuracy: 0.6410\n",
      "Epoch 84/200\n",
      "4/4 [==============================] - 0s 3ms/step - loss: 1.0882 - accuracy: 0.6410\n",
      "Epoch 85/200\n",
      "4/4 [==============================] - 0s 3ms/step - loss: 1.0716 - accuracy: 0.6581\n",
      "Epoch 86/200\n",
      "4/4 [==============================] - 0s 4ms/step - loss: 1.0601 - accuracy: 0.6667\n",
      "Epoch 87/200\n",
      "4/4 [==============================] - 0s 3ms/step - loss: 1.0494 - accuracy: 0.6667\n",
      "Epoch 88/200\n",
      "4/4 [==============================] - 0s 3ms/step - loss: 1.0312 - accuracy: 0.6752\n",
      "Epoch 89/200\n",
      "4/4 [==============================] - 0s 3ms/step - loss: 1.0237 - accuracy: 0.6838\n",
      "Epoch 90/200\n",
      "4/4 [==============================] - 0s 4ms/step - loss: 1.0096 - accuracy: 0.6923\n",
      "Epoch 91/200\n",
      "4/4 [==============================] - 0s 3ms/step - loss: 0.9953 - accuracy: 0.6838\n",
      "Epoch 92/200\n",
      "4/4 [==============================] - 0s 3ms/step - loss: 0.9859 - accuracy: 0.6838\n",
      "Epoch 93/200\n",
      "4/4 [==============================] - 0s 4ms/step - loss: 0.9760 - accuracy: 0.6838\n",
      "Epoch 94/200\n",
      "4/4 [==============================] - 0s 3ms/step - loss: 0.9609 - accuracy: 0.6923\n",
      "Epoch 95/200\n",
      "4/4 [==============================] - 0s 4ms/step - loss: 0.9563 - accuracy: 0.7179\n",
      "Epoch 96/200\n",
      "4/4 [==============================] - 0s 3ms/step - loss: 0.9344 - accuracy: 0.7179\n",
      "Epoch 97/200\n",
      "4/4 [==============================] - 0s 3ms/step - loss: 0.9345 - accuracy: 0.6923\n",
      "Epoch 98/200\n",
      "4/4 [==============================] - 0s 3ms/step - loss: 0.9140 - accuracy: 0.7179\n",
      "Epoch 99/200\n",
      "4/4 [==============================] - 0s 4ms/step - loss: 0.9113 - accuracy: 0.7350\n",
      "Epoch 100/200\n",
      "4/4 [==============================] - 0s 4ms/step - loss: 0.8957 - accuracy: 0.7350\n",
      "Epoch 101/200\n",
      "4/4 [==============================] - 0s 4ms/step - loss: 0.8831 - accuracy: 0.7179\n",
      "Epoch 102/200\n",
      "4/4 [==============================] - 0s 3ms/step - loss: 0.8744 - accuracy: 0.7094\n",
      "Epoch 103/200\n",
      "4/4 [==============================] - 0s 4ms/step - loss: 0.8673 - accuracy: 0.7094\n",
      "Epoch 104/200\n",
      "4/4 [==============================] - 0s 3ms/step - loss: 0.8591 - accuracy: 0.7350\n",
      "Epoch 105/200\n",
      "4/4 [==============================] - 0s 3ms/step - loss: 0.8465 - accuracy: 0.7350\n",
      "Epoch 106/200\n",
      "4/4 [==============================] - 0s 3ms/step - loss: 0.8348 - accuracy: 0.7350\n",
      "Epoch 107/200\n",
      "4/4 [==============================] - 0s 4ms/step - loss: 0.8269 - accuracy: 0.7436\n",
      "Epoch 108/200\n",
      "4/4 [==============================] - 0s 4ms/step - loss: 0.8161 - accuracy: 0.7521\n",
      "Epoch 109/200\n",
      "4/4 [==============================] - 0s 3ms/step - loss: 0.8109 - accuracy: 0.7521\n",
      "Epoch 110/200\n",
      "4/4 [==============================] - 0s 3ms/step - loss: 0.8099 - accuracy: 0.7607\n",
      "Epoch 111/200\n",
      "4/4 [==============================] - 0s 4ms/step - loss: 0.7861 - accuracy: 0.7521\n",
      "Epoch 112/200\n",
      "4/4 [==============================] - 0s 3ms/step - loss: 0.7932 - accuracy: 0.7521\n",
      "Epoch 113/200\n",
      "4/4 [==============================] - 0s 4ms/step - loss: 0.7731 - accuracy: 0.7521\n",
      "Epoch 114/200\n",
      "4/4 [==============================] - 0s 3ms/step - loss: 0.7716 - accuracy: 0.7863\n",
      "Epoch 115/200\n",
      "4/4 [==============================] - 0s 4ms/step - loss: 0.7578 - accuracy: 0.7607\n",
      "Epoch 116/200\n",
      "4/4 [==============================] - 0s 4ms/step - loss: 0.7491 - accuracy: 0.7607\n",
      "Epoch 117/200\n",
      "4/4 [==============================] - 0s 3ms/step - loss: 0.7432 - accuracy: 0.7778\n",
      "Epoch 118/200\n",
      "4/4 [==============================] - 0s 4ms/step - loss: 0.7349 - accuracy: 0.7863\n",
      "Epoch 119/200\n",
      "4/4 [==============================] - 0s 4ms/step - loss: 0.7235 - accuracy: 0.7863\n",
      "Epoch 120/200\n",
      "4/4 [==============================] - 0s 4ms/step - loss: 0.7200 - accuracy: 0.7863\n",
      "Epoch 121/200\n",
      "4/4 [==============================] - 0s 4ms/step - loss: 0.7102 - accuracy: 0.7949\n",
      "Epoch 122/200\n",
      "4/4 [==============================] - 0s 3ms/step - loss: 0.7033 - accuracy: 0.7778\n",
      "Epoch 123/200\n",
      "4/4 [==============================] - 0s 4ms/step - loss: 0.6972 - accuracy: 0.7863\n",
      "Epoch 124/200\n",
      "4/4 [==============================] - 0s 4ms/step - loss: 0.6875 - accuracy: 0.7863\n",
      "Epoch 125/200\n",
      "4/4 [==============================] - 0s 3ms/step - loss: 0.6839 - accuracy: 0.7949\n",
      "Epoch 126/200\n",
      "4/4 [==============================] - 0s 3ms/step - loss: 0.6736 - accuracy: 0.7863\n",
      "Epoch 127/200\n",
      "4/4 [==============================] - 0s 4ms/step - loss: 0.6695 - accuracy: 0.7863\n",
      "Epoch 128/200\n",
      "4/4 [==============================] - 0s 3ms/step - loss: 0.6596 - accuracy: 0.7863\n",
      "Epoch 129/200\n",
      "4/4 [==============================] - 0s 4ms/step - loss: 0.6558 - accuracy: 0.7863\n",
      "Epoch 130/200\n",
      "4/4 [==============================] - 0s 4ms/step - loss: 0.6475 - accuracy: 0.7778\n",
      "Epoch 131/200\n",
      "4/4 [==============================] - 0s 3ms/step - loss: 0.6425 - accuracy: 0.7863\n",
      "Epoch 132/200\n",
      "4/4 [==============================] - 0s 4ms/step - loss: 0.6346 - accuracy: 0.8120\n",
      "Epoch 133/200\n",
      "4/4 [==============================] - 0s 4ms/step - loss: 0.6281 - accuracy: 0.8462\n",
      "Epoch 134/200\n",
      "4/4 [==============================] - 0s 3ms/step - loss: 0.6216 - accuracy: 0.8376\n",
      "Epoch 135/200\n",
      "4/4 [==============================] - 0s 4ms/step - loss: 0.6150 - accuracy: 0.8547\n",
      "Epoch 136/200\n",
      "4/4 [==============================] - 0s 3ms/step - loss: 0.6102 - accuracy: 0.8547\n",
      "Epoch 137/200\n",
      "4/4 [==============================] - 0s 3ms/step - loss: 0.6027 - accuracy: 0.8376\n",
      "Epoch 138/200\n",
      "4/4 [==============================] - 0s 4ms/step - loss: 0.6005 - accuracy: 0.8291\n",
      "Epoch 139/200\n",
      "4/4 [==============================] - 0s 4ms/step - loss: 0.5911 - accuracy: 0.8376\n",
      "Epoch 140/200\n",
      "4/4 [==============================] - 0s 4ms/step - loss: 0.5870 - accuracy: 0.8462\n",
      "Epoch 141/200\n",
      "4/4 [==============================] - 0s 4ms/step - loss: 0.5783 - accuracy: 0.8462\n",
      "Epoch 142/200\n",
      "4/4 [==============================] - 0s 4ms/step - loss: 0.5806 - accuracy: 0.8291\n",
      "Epoch 143/200\n",
      "4/4 [==============================] - 0s 3ms/step - loss: 0.5767 - accuracy: 0.8632\n",
      "Epoch 144/200\n",
      "4/4 [==============================] - 0s 4ms/step - loss: 0.5672 - accuracy: 0.8632\n",
      "Epoch 145/200\n",
      "4/4 [==============================] - 0s 3ms/step - loss: 0.5562 - accuracy: 0.8547\n",
      "Epoch 146/200\n",
      "4/4 [==============================] - 0s 3ms/step - loss: 0.5520 - accuracy: 0.8547\n",
      "Epoch 147/200\n",
      "4/4 [==============================] - 0s 4ms/step - loss: 0.5458 - accuracy: 0.8462\n",
      "Epoch 148/200\n",
      "4/4 [==============================] - 0s 3ms/step - loss: 0.5407 - accuracy: 0.8632\n",
      "Epoch 149/200\n",
      "4/4 [==============================] - 0s 4ms/step - loss: 0.5367 - accuracy: 0.8632\n",
      "Epoch 150/200\n",
      "4/4 [==============================] - 0s 3ms/step - loss: 0.5303 - accuracy: 0.8547\n",
      "Epoch 151/200\n",
      "4/4 [==============================] - 0s 4ms/step - loss: 0.5246 - accuracy: 0.8547\n",
      "Epoch 152/200\n",
      "4/4 [==============================] - 0s 4ms/step - loss: 0.5190 - accuracy: 0.8632\n",
      "Epoch 153/200\n",
      "4/4 [==============================] - 0s 3ms/step - loss: 0.5161 - accuracy: 0.8718\n",
      "Epoch 154/200\n",
      "4/4 [==============================] - 0s 3ms/step - loss: 0.5103 - accuracy: 0.8889\n",
      "Epoch 155/200\n",
      "4/4 [==============================] - 0s 3ms/step - loss: 0.5054 - accuracy: 0.8803\n",
      "Epoch 156/200\n",
      "4/4 [==============================] - 0s 3ms/step - loss: 0.5004 - accuracy: 0.8889\n",
      "Epoch 157/200\n",
      "4/4 [==============================] - 0s 3ms/step - loss: 0.5001 - accuracy: 0.8803\n",
      "Epoch 158/200\n",
      "4/4 [==============================] - 0s 3ms/step - loss: 0.4893 - accuracy: 0.8889\n",
      "Epoch 159/200\n",
      "4/4 [==============================] - 0s 4ms/step - loss: 0.4881 - accuracy: 0.9060\n",
      "Epoch 160/200\n",
      "4/4 [==============================] - 0s 3ms/step - loss: 0.4796 - accuracy: 0.8974\n",
      "Epoch 161/200\n",
      "4/4 [==============================] - 0s 3ms/step - loss: 0.4785 - accuracy: 0.8974\n",
      "Epoch 162/200\n",
      "4/4 [==============================] - 0s 4ms/step - loss: 0.4746 - accuracy: 0.8974\n",
      "Epoch 163/200\n",
      "4/4 [==============================] - 0s 3ms/step - loss: 0.4679 - accuracy: 0.9145\n",
      "Epoch 164/200\n",
      "4/4 [==============================] - 0s 4ms/step - loss: 0.4629 - accuracy: 0.9060\n",
      "Epoch 165/200\n",
      "4/4 [==============================] - 0s 4ms/step - loss: 0.4594 - accuracy: 0.9060\n",
      "Epoch 166/200\n",
      "4/4 [==============================] - 0s 4ms/step - loss: 0.4529 - accuracy: 0.9316\n",
      "Epoch 167/200\n",
      "4/4 [==============================] - 0s 4ms/step - loss: 0.4483 - accuracy: 0.9316\n",
      "Epoch 168/200\n",
      "4/4 [==============================] - 0s 4ms/step - loss: 0.4440 - accuracy: 0.9402\n",
      "Epoch 169/200\n",
      "4/4 [==============================] - 0s 3ms/step - loss: 0.4397 - accuracy: 0.9316\n",
      "Epoch 170/200\n",
      "4/4 [==============================] - 0s 3ms/step - loss: 0.4351 - accuracy: 0.9316\n",
      "Epoch 171/200\n",
      "4/4 [==============================] - 0s 3ms/step - loss: 0.4319 - accuracy: 0.9487\n",
      "Epoch 172/200\n",
      "4/4 [==============================] - 0s 4ms/step - loss: 0.4274 - accuracy: 0.9402\n",
      "Epoch 173/200\n",
      "4/4 [==============================] - 0s 4ms/step - loss: 0.4242 - accuracy: 0.9487\n",
      "Epoch 174/200\n",
      "4/4 [==============================] - 0s 3ms/step - loss: 0.4181 - accuracy: 0.9487\n",
      "Epoch 175/200\n",
      "4/4 [==============================] - 0s 4ms/step - loss: 0.4157 - accuracy: 0.9487\n",
      "Epoch 176/200\n",
      "4/4 [==============================] - 0s 3ms/step - loss: 0.4094 - accuracy: 0.9487\n",
      "Epoch 177/200\n",
      "4/4 [==============================] - 0s 4ms/step - loss: 0.4071 - accuracy: 0.9487\n",
      "Epoch 178/200\n",
      "4/4 [==============================] - 0s 3ms/step - loss: 0.4030 - accuracy: 0.9487\n",
      "Epoch 179/200\n",
      "4/4 [==============================] - 0s 3ms/step - loss: 0.3976 - accuracy: 0.9487\n",
      "Epoch 180/200\n",
      "4/4 [==============================] - 0s 3ms/step - loss: 0.3928 - accuracy: 0.9487\n",
      "Epoch 181/200\n",
      "4/4 [==============================] - 0s 3ms/step - loss: 0.3905 - accuracy: 0.9487\n",
      "Epoch 182/200\n",
      "4/4 [==============================] - 0s 4ms/step - loss: 0.3833 - accuracy: 0.9487\n",
      "Epoch 183/200\n",
      "4/4 [==============================] - 0s 4ms/step - loss: 0.3818 - accuracy: 0.9487\n",
      "Epoch 184/200\n",
      "4/4 [==============================] - 0s 3ms/step - loss: 0.3772 - accuracy: 0.9573\n",
      "Epoch 185/200\n",
      "4/4 [==============================] - 0s 3ms/step - loss: 0.3719 - accuracy: 0.9573\n",
      "Epoch 186/200\n",
      "4/4 [==============================] - 0s 4ms/step - loss: 0.3684 - accuracy: 0.9573\n",
      "Epoch 187/200\n",
      "4/4 [==============================] - 0s 4ms/step - loss: 0.3652 - accuracy: 0.9573\n",
      "Epoch 188/200\n",
      "4/4 [==============================] - 0s 4ms/step - loss: 0.3598 - accuracy: 0.9573\n",
      "Epoch 189/200\n",
      "4/4 [==============================] - 0s 3ms/step - loss: 0.3553 - accuracy: 0.9573\n",
      "Epoch 190/200\n",
      "4/4 [==============================] - 0s 4ms/step - loss: 0.3532 - accuracy: 0.9573\n",
      "Epoch 191/200\n",
      "4/4 [==============================] - 0s 3ms/step - loss: 0.3481 - accuracy: 0.9573\n",
      "Epoch 192/200\n",
      "4/4 [==============================] - 0s 4ms/step - loss: 0.3436 - accuracy: 0.9573\n",
      "Epoch 193/200\n",
      "4/4 [==============================] - 0s 4ms/step - loss: 0.3399 - accuracy: 0.9573\n",
      "Epoch 194/200\n",
      "4/4 [==============================] - 0s 4ms/step - loss: 0.3352 - accuracy: 0.9573\n",
      "Epoch 195/200\n",
      "4/4 [==============================] - 0s 4ms/step - loss: 0.3311 - accuracy: 0.9573\n",
      "Epoch 196/200\n",
      "4/4 [==============================] - 0s 3ms/step - loss: 0.3278 - accuracy: 0.9573\n",
      "Epoch 197/200\n",
      "4/4 [==============================] - 0s 3ms/step - loss: 0.3240 - accuracy: 0.9573\n",
      "Epoch 198/200\n",
      "4/4 [==============================] - 0s 4ms/step - loss: 0.3196 - accuracy: 0.9573\n",
      "Epoch 199/200\n",
      "4/4 [==============================] - 0s 4ms/step - loss: 0.3159 - accuracy: 0.9573\n",
      "Epoch 200/200\n",
      "4/4 [==============================] - 0s 3ms/step - loss: 0.3120 - accuracy: 0.9573\n"
     ]
    }
   ],
   "source": [
    "#training the model\n",
    "train = model.fit(x_train,y_train,epochs=200)"
   ]
  },
  {
   "cell_type": "markdown",
   "metadata": {},
   "source": [
    "<h2> Model Analysis </h2>\n",
    "\n",
    "The model got a perfect accuracy of 100%. "
   ]
  },
  {
   "cell_type": "code",
   "execution_count": 50,
   "metadata": {
    "colab": {
     "base_uri": "https://localhost:8080/",
     "height": 282
    },
    "id": "BcWCycGSLbeB",
    "outputId": "b8a60f76-7488-466e-8950-3d42b4b7b4c3"
   },
   "outputs": [
    {
     "data": {
      "text/plain": "<matplotlib.legend.Legend at 0x7f0dcc13ec50>"
     },
     "execution_count": 50,
     "metadata": {},
     "output_type": "execute_result"
    },
    {
     "data": {
      "text/plain": "<Figure size 432x288 with 1 Axes>",
      "image/png": "[encoded data removed]"
     },
     "metadata": {
      "needs_background": "light"
     },
     "output_type": "display_data"
    }
   ],
   "source": [
    "#plotting model accuracy\n",
    "plt.plot(train.history['accuracy'],label='training set accuracy')\n",
    "plt.plot(train.history['loss'],label='training set loss')\n",
    "plt.legend()"
   ]
  },
  {
   "cell_type": "markdown",
   "metadata": {},
   "source": [
    "<h2> Testing </h2>\n",
    "\n",
    "I have also tested the model in a way to mimic a human interacting with a bot and got positive results. however, This was very simple because of the tiny amount of data that I have created. but, the same model can also be used with large amount of data"
   ]
  },
  {
   "cell_type": "code",
   "execution_count": 14,
   "metadata": {},
   "outputs": [],
   "source": []
  },
  {
   "cell_type": "code",
   "execution_count": 14,
   "metadata": {},
   "outputs": [],
   "source": []
  },
  {
   "cell_type": "code",
   "execution_count": 15,
   "metadata": {
    "colab": {
     "base_uri": "https://localhost:8080/",
     "height": 241
    },
    "id": "71ITeJqtfV0s",
    "outputId": "8da86848-8252-4ced-b535-df0c03edfaa4"
   },
   "outputs": [
    {
     "name": "stdout",
     "output_type": "stream",
     "text": [
      "Receptionist:  Understood. We have reserved a table for you\n",
      "Receptionist:  Understood. We have reserved a table for you\n",
      "Receptionist:  Understood. We have reserved a table for you\n",
      "Receptionist:  We are located at 9 Engineering Drive 1, #07-26 EA, Singapore 117575\n",
      "Receptionist:  We are located at 9 Engineering Drive 1, #07-26 EA, Singapore 117575\n",
      "Receptionist:  Understood. We have reserved a table for you\n",
      "Receptionist:  Understood. We have reserved a table for you\n",
      "Receptionist:  Understood. We have reserved a table for you\n",
      "Receptionist:  Understood. We have reserved a table for you\n",
      "Receptionist:  Understood. We have reserved a table for you\n",
      "Receptionist:  Understood. We have reserved a table for you\n",
      "Receptionist:  Understood. We have reserved a table for you\n",
      "Receptionist:  Understood. We have reserved a table for you\n",
      "Receptionist:  Understood. We have reserved a table for you\n",
      "Receptionist:  Understood. We have reserved a table for you\n",
      "Receptionist:  Goodbye, have a nice day\n"
     ]
    }
   ],
   "source": [
    "#chatting\n",
    "import random\n",
    "\n",
    "\n",
    "while True:\n",
    "  texts_p = []\n",
    "  prediction_input = input('You : ')\n",
    "\n",
    "  #removing punctuation and converting to lowercase\n",
    "  prediction_input = [letters.lower() for letters in prediction_input if letters not in string.punctuation]\n",
    "  prediction_input = ''.join(prediction_input)\n",
    "  texts_p.append(prediction_input)\n",
    "\n",
    "  #tokenizing and padding\n",
    "  prediction_input = tokenizer.texts_to_sequences(texts_p)\n",
    "  prediction_input = np.array(prediction_input).reshape(-1)\n",
    "  prediction_input = pad_sequences([prediction_input],input_shape)\n",
    "\n",
    "  #getting output from model\n",
    "  output = model.predict(prediction_input)\n",
    "  output = output.argmax()\n",
    "\n",
    "  #finding the right tag and predicting\n",
    "  response_tag = le.inverse_transform([output])[0]\n",
    "  print(\"Receptionist: \",random.choice(responses[response_tag]))\n",
    "  if response_tag == \"goodbye\":\n",
    "    break"
   ]
  },
  {
   "cell_type": "markdown",
   "metadata": {},
   "source": [
    "<h2> Conclusion </h2>\n",
    "So, This is the Chatbot that I have created with tensorflow2 utilizing the power of embedding matrix.<br>\n",
    "This was created in memory og <b> Going Merry </b> , a ship from a manga called \"One Piece\" which revolves around the story of 5 pirates. "
   ]
  },
  {
   "cell_type": "code",
   "execution_count": null,
   "metadata": {},
   "outputs": [],
   "source": []
  },
  {
   "cell_type": "code",
   "execution_count": null,
   "metadata": {},
   "outputs": [],
   "source": []
  }
 ],
 "metadata": {
  "colab": {
   "collapsed_sections": [],
   "name": "chatbot.ipynb",
   "provenance": [],
   "toc_visible": true
  },
  "kernelspec": {
   "display_name": "Python 3",
   "language": "python",
   "name": "python3"
  },
  "language_info": {
   "codemirror_mode": {
    "name": "ipython",
    "version": 3
   },
   "file_extension": ".py",
   "mimetype": "text/x-python",
   "name": "python",
   "nbconvert_exporter": "python",
   "pygments_lexer": "ipython3",
   "version": "3.8.5"
  }
 },
 "nbformat": 4,
 "nbformat_minor": 4
}
