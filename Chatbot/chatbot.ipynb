{
 "cells": [
  {
   "cell_type": "markdown",
   "metadata": {
    "pycharm": {
     "name": "#%% md\n"
    }
   },
   "source": [
    "<h1 style = \"text-align:center\"> Chatbot for Restaurant Receptionist </h1>\n",
    "<p1> This is a chatbot that can greet customers, give recommendations, make reservations and more! </p1>\n"
   ]
  },
  {
   "cell_type": "markdown",
   "metadata": {
    "pycharm": {
     "name": "#%% md\n"
    }
   },
   "source": [
    "<h2>Libraries</h2>\n",
    "The main libraries that are used are tensorflow2, keras , numpy and pandas"
   ]
  },
  {
   "cell_type": "code",
   "execution_count": 66,
   "metadata": {
    "id": "70nBFLDY0kcP",
    "pycharm": {
     "name": "#%%\n"
    }
   },
   "outputs": [],
   "source": [
    "#importing the libraries\n",
    "import tensorflow as tf\n",
    "import numpy as np\n",
    "import pandas as pd\n",
    "import json\n",
    "from tensorflow.keras.layers import Input, Embedding, LSTM , Dense,Flatten\n",
    "from tensorflow.keras.models import Model\n",
    "import matplotlib.pyplot as plt\n",
    "from gtts import gTTS\n",
    "import os"
   ]
  },
  {
   "cell_type": "markdown",
   "metadata": {
    "pycharm": {
     "name": "#%% md\n"
    }
   },
   "source": [
    "<h2> Importing the Data </h2>\n",
    "\n",
    "The data is stored in a json file, which can be imported and used as a pandas dataframe.\n",
    "This data was manually created. Hence, it's not that big.<br>"
   ]
  },
  {
   "cell_type": "code",
   "execution_count": 67,
   "metadata": {
    "id": "Rvgn3orx0sAJ"
   },
   "outputs": [],
   "source": [
    "#importing the dataset\n",
    "with open('content.json') as content:\n",
    "  data1 = json.load(content)"
   ]
  },
  {
   "cell_type": "code",
   "execution_count": 68,
   "metadata": {
    "id": "PGGvrVhl07o8"
   },
   "outputs": [],
   "source": [
    "#getting all the data to lists\n",
    "tags = []\n",
    "inputs = []\n",
    "responses={}\n",
    "for intent in data1['intents']:\n",
    "  responses[intent['tag']]=intent['responses']\n",
    "  for lines in intent['input']:\n",
    "    inputs.append(lines)\n",
    "    tags.append(intent['tag'])"
   ]
  },
  {
   "cell_type": "code",
   "execution_count": 69,
   "metadata": {
    "id": "ruibWXd_3xFR"
   },
   "outputs": [],
   "source": [
    "#converting to dataframe\n",
    "data = pd.DataFrame({\"inputs\":inputs,\n",
    "                     \"tags\":tags})"
   ]
  },
  {
   "cell_type": "code",
   "execution_count": 70,
   "metadata": {
    "colab": {
     "base_uri": "https://localhost:8080/",
     "height": 419
    },
    "id": "elc0th634mTr",
    "outputId": "e4d9b7bc-3067-4c05-be6c-c0b3393c6d7b"
   },
   "outputs": [
    {
     "data": {
      "text/plain": "                 inputs      tags\n0                 hello  greeting\n1              hi there  greeting\n2      nice to meet you  greeting\n3                    hi  greeting\n4             hey there  greeting\n..                  ...       ...\n104  for a table at 4pm      time\n105  for a table at 1pm      time\n106      looking at 1pm      time\n107      looking at 2pm      time\n108   reserving for 3pm      time\n\n[109 rows x 2 columns]",
      "text/html": "<div>\n<style scoped>\n    .dataframe tbody tr th:only-of-type {\n        vertical-align: middle;\n    }\n\n    .dataframe tbody tr th {\n        vertical-align: top;\n    }\n\n    .dataframe thead th {\n        text-align: right;\n    }\n</style>\n<table border=\"1\" class=\"dataframe\">\n  <thead>\n    <tr style=\"text-align: right;\">\n      <th></th>\n      <th>inputs</th>\n      <th>tags</th>\n    </tr>\n  </thead>\n  <tbody>\n    <tr>\n      <th>0</th>\n      <td>hello</td>\n      <td>greeting</td>\n    </tr>\n    <tr>\n      <th>1</th>\n      <td>hi there</td>\n      <td>greeting</td>\n    </tr>\n    <tr>\n      <th>2</th>\n      <td>nice to meet you</td>\n      <td>greeting</td>\n    </tr>\n    <tr>\n      <th>3</th>\n      <td>hi</td>\n      <td>greeting</td>\n    </tr>\n    <tr>\n      <th>4</th>\n      <td>hey there</td>\n      <td>greeting</td>\n    </tr>\n    <tr>\n      <th>...</th>\n      <td>...</td>\n      <td>...</td>\n    </tr>\n    <tr>\n      <th>104</th>\n      <td>for a table at 4pm</td>\n      <td>time</td>\n    </tr>\n    <tr>\n      <th>105</th>\n      <td>for a table at 1pm</td>\n      <td>time</td>\n    </tr>\n    <tr>\n      <th>106</th>\n      <td>looking at 1pm</td>\n      <td>time</td>\n    </tr>\n    <tr>\n      <th>107</th>\n      <td>looking at 2pm</td>\n      <td>time</td>\n    </tr>\n    <tr>\n      <th>108</th>\n      <td>reserving for 3pm</td>\n      <td>time</td>\n    </tr>\n  </tbody>\n</table>\n<p>109 rows × 2 columns</p>\n</div>"
     },
     "execution_count": 70,
     "metadata": {},
     "output_type": "execute_result"
    }
   ],
   "source": [
    "#printing the data\n",
    "data"
   ]
  },
  {
   "cell_type": "code",
   "execution_count": 71,
   "metadata": {
    "id": "xd5Z3_oFf7iA"
   },
   "outputs": [],
   "source": [
    "data = data.sample(frac=1)"
   ]
  },
  {
   "cell_type": "markdown",
   "metadata": {},
   "source": [
    "<h2> Pre-Processing </h2>\n",
    "\n",
    "Important pre-processing such as removing the punctuations, converting to lowercase, encoding the textual data to numerical data are done"
   ]
  },
  {
   "cell_type": "code",
   "execution_count": 72,
   "metadata": {
    "colab": {
     "base_uri": "https://localhost:8080/",
     "height": 419
    },
    "id": "mm4koLwuGGJb",
    "outputId": "94d4af63-5fe5-42b9-aced-8d65e5616060"
   },
   "outputs": [
    {
     "data": {
      "text/plain": "                                 inputs             tags\n98                                   am             time\n101      reserving a table at this time             time\n55             what would you recommend  recommendations\n38                                    5           guests\n26                                three           guests\n..                                  ...              ...\n18                            table for     reservations\n94     any spicy dishes to recommend me            spicy\n73                  i like savoury food          savoury\n7                   hi nice to meet you         greeting\n88   i have a preference for sweet food            sweet\n\n[109 rows x 2 columns]",
      "text/html": "<div>\n<style scoped>\n    .dataframe tbody tr th:only-of-type {\n        vertical-align: middle;\n    }\n\n    .dataframe tbody tr th {\n        vertical-align: top;\n    }\n\n    .dataframe thead th {\n        text-align: right;\n    }\n</style>\n<table border=\"1\" class=\"dataframe\">\n  <thead>\n    <tr style=\"text-align: right;\">\n      <th></th>\n      <th>inputs</th>\n      <th>tags</th>\n    </tr>\n  </thead>\n  <tbody>\n    <tr>\n      <th>98</th>\n      <td>am</td>\n      <td>time</td>\n    </tr>\n    <tr>\n      <th>101</th>\n      <td>reserving a table at this time</td>\n      <td>time</td>\n    </tr>\n    <tr>\n      <th>55</th>\n      <td>what would you recommend</td>\n      <td>recommendations</td>\n    </tr>\n    <tr>\n      <th>38</th>\n      <td>5</td>\n      <td>guests</td>\n    </tr>\n    <tr>\n      <th>26</th>\n      <td>three</td>\n      <td>guests</td>\n    </tr>\n    <tr>\n      <th>...</th>\n      <td>...</td>\n      <td>...</td>\n    </tr>\n    <tr>\n      <th>18</th>\n      <td>table for</td>\n      <td>reservations</td>\n    </tr>\n    <tr>\n      <th>94</th>\n      <td>any spicy dishes to recommend me</td>\n      <td>spicy</td>\n    </tr>\n    <tr>\n      <th>73</th>\n      <td>i like savoury food</td>\n      <td>savoury</td>\n    </tr>\n    <tr>\n      <th>7</th>\n      <td>hi nice to meet you</td>\n      <td>greeting</td>\n    </tr>\n    <tr>\n      <th>88</th>\n      <td>i have a preference for sweet food</td>\n      <td>sweet</td>\n    </tr>\n  </tbody>\n</table>\n<p>109 rows × 2 columns</p>\n</div>"
     },
     "execution_count": 72,
     "metadata": {},
     "output_type": "execute_result"
    }
   ],
   "source": [
    "#removing punctuations\n",
    "import string\n",
    "data['inputs'] = data['inputs'].apply(lambda wrd:[ltrs.lower() for ltrs in wrd if ltrs not in string.punctuation])\n",
    "data['inputs'] = data['inputs'].apply(lambda wrd: ''.join(wrd))\n",
    "data"
   ]
  },
  {
   "cell_type": "code",
   "execution_count": 73,
   "metadata": {
    "id": "eNahMu32_h1Q",
    "pycharm": {
     "name": "#%%\n"
    }
   },
   "outputs": [],
   "source": [
    "#tokenize the data\n",
    "from tensorflow.keras.preprocessing.text import Tokenizer\n",
    "tokenizer = Tokenizer(num_words=2000)\n",
    "tokenizer.fit_on_texts(data['inputs'])\n",
    "train = tokenizer.texts_to_sequences(data['inputs'])\n",
    "\n",
    "#apply padding\n",
    "from tensorflow.keras.preprocessing.sequence import pad_sequences\n",
    "x_train = pad_sequences(train)\n",
    "\n",
    "#encoding the outputs\n",
    "from sklearn.preprocessing import LabelEncoder\n",
    "le = LabelEncoder()\n",
    "y_train = le.fit_transform(data['tags'])"
   ]
  },
  {
   "cell_type": "markdown",
   "metadata": {
    "pycharm": {
     "name": "#%% md\n"
    }
   },
   "source": [
    "Tensorflow's tokenizer assigns a unique token to each distinct word. and padding is done to get all the data to the same length as to send it to an RNN layer"
   ]
  },
  {
   "cell_type": "code",
   "execution_count": 74,
   "metadata": {
    "colab": {
     "base_uri": "https://localhost:8080/",
     "height": 34
    },
    "id": "A-VY9ZnyM_65",
    "outputId": "13522291-df62-4de7-9bba-7b09903d9fa6"
   },
   "outputs": [
    {
     "name": "stdout",
     "output_type": "stream",
     "text": [
      "9\n"
     ]
    }
   ],
   "source": [
    "input_shape = x_train.shape[1]\n",
    "print(input_shape)"
   ]
  },
  {
   "cell_type": "code",
   "execution_count": 75,
   "metadata": {
    "colab": {
     "base_uri": "https://localhost:8080/",
     "height": 51
    },
    "id": "OaXDwXOIAkR4",
    "outputId": "f3ea1290-2abc-4759-b692-3c8860559c74"
   },
   "outputs": [
    {
     "name": "stdout",
     "output_type": "stream",
     "text": [
      "number of unique words :  113\n",
      "output length:  10\n"
     ]
    }
   ],
   "source": [
    "#define vocabulary\n",
    "vocabulary = len(tokenizer.word_index)\n",
    "print(\"number of unique words : \",vocabulary)\n",
    "output_length = le.classes_.shape[0]\n",
    "print(\"output length: \",output_length)"
   ]
  },
  {
   "cell_type": "markdown",
   "metadata": {
    "pycharm": {
     "name": "#%% md\n"
    }
   },
   "source": [
    "<h2>Neural Network</h2>\n",
    "\n",
    "The Network consist of an embedding layer which is one of the most powerful things in the field of natural language processing. the outputs of the embedding layer is the input of the recurrent layer with lstm gate. then, the output is flattened and a regular dense layer is used with a softmax activation function.\n",
    "\n",
    "The main part is the embedding layer which gives a corresponding vector for each word in the dataset"
   ]
  },
  {
   "cell_type": "code",
   "execution_count": 76,
   "metadata": {
    "id": "vaCZkzTEJCd6"
   },
   "outputs": [],
   "source": [
    "#creating the model\n",
    "\n",
    "i = Input(shape=(input_shape,))\n",
    "x = Embedding(vocabulary+1,10)(i)\n",
    "x = LSTM(10,return_sequences=True)(x)\n",
    "x = Flatten()(x)\n",
    "x = Dense(output_length,activation=\"softmax\")(x)\n",
    "model  = Model(i,x)"
   ]
  },
  {
   "cell_type": "code",
   "execution_count": 77,
   "metadata": {
    "id": "rqF-km_SK04Q"
   },
   "outputs": [],
   "source": [
    "#compiling the model\n",
    "model.compile(loss=\"sparse_categorical_crossentropy\",optimizer='adam',metrics=['accuracy'])"
   ]
  },
  {
   "cell_type": "code",
   "execution_count": 78,
   "metadata": {
    "colab": {
     "base_uri": "https://localhost:8080/",
     "height": 1000
    },
    "id": "Iml1HlsFLUFY",
    "outputId": "9102eefa-b6e3-43fc-bad1-1ae378688150"
   },
   "outputs": [
    {
     "name": "stdout",
     "output_type": "stream",
     "text": [
      "Epoch 1/200\n",
      "4/4 [==============================] - 3s 5ms/step - loss: 2.3013 - accuracy: 0.0642\n",
      "Epoch 2/200\n",
      "4/4 [==============================] - 0s 7ms/step - loss: 2.2978 - accuracy: 0.2110\n",
      "Epoch 3/200\n",
      "4/4 [==============================] - 0s 7ms/step - loss: 2.2946 - accuracy: 0.1835\n",
      "Epoch 4/200\n",
      "4/4 [==============================] - 0s 7ms/step - loss: 2.2920 - accuracy: 0.1743\n",
      "Epoch 5/200\n",
      "4/4 [==============================] - 0s 7ms/step - loss: 2.2883 - accuracy: 0.1835\n",
      "Epoch 6/200\n",
      "4/4 [==============================] - 0s 7ms/step - loss: 2.2847 - accuracy: 0.1835\n",
      "Epoch 7/200\n",
      "4/4 [==============================] - 0s 7ms/step - loss: 2.2802 - accuracy: 0.1835\n",
      "Epoch 8/200\n",
      "4/4 [==============================] - 0s 7ms/step - loss: 2.2762 - accuracy: 0.1835\n",
      "Epoch 9/200\n",
      "4/4 [==============================] - 0s 7ms/step - loss: 2.2712 - accuracy: 0.1835\n",
      "Epoch 10/200\n",
      "4/4 [==============================] - 0s 7ms/step - loss: 2.2666 - accuracy: 0.1835\n",
      "Epoch 11/200\n",
      "4/4 [==============================] - 0s 7ms/step - loss: 2.2598 - accuracy: 0.1835\n",
      "Epoch 12/200\n",
      "4/4 [==============================] - 0s 6ms/step - loss: 2.2534 - accuracy: 0.1835\n",
      "Epoch 13/200\n",
      "4/4 [==============================] - 0s 6ms/step - loss: 2.2467 - accuracy: 0.1835\n",
      "Epoch 14/200\n",
      "4/4 [==============================] - 0s 6ms/step - loss: 2.2401 - accuracy: 0.1835\n",
      "Epoch 15/200\n",
      "4/4 [==============================] - 0s 7ms/step - loss: 2.2310 - accuracy: 0.1835\n",
      "Epoch 16/200\n",
      "4/4 [==============================] - 0s 7ms/step - loss: 2.2246 - accuracy: 0.1835\n",
      "Epoch 17/200\n",
      "4/4 [==============================] - 0s 7ms/step - loss: 2.2171 - accuracy: 0.1743\n",
      "Epoch 18/200\n",
      "4/4 [==============================] - 0s 7ms/step - loss: 2.2087 - accuracy: 0.1835\n",
      "Epoch 19/200\n",
      "4/4 [==============================] - 0s 6ms/step - loss: 2.2032 - accuracy: 0.1835\n",
      "Epoch 20/200\n",
      "4/4 [==============================] - 0s 6ms/step - loss: 2.1959 - accuracy: 0.1835\n",
      "Epoch 21/200\n",
      "4/4 [==============================] - 0s 6ms/step - loss: 2.1899 - accuracy: 0.1835\n",
      "Epoch 22/200\n",
      "4/4 [==============================] - 0s 6ms/step - loss: 2.1816 - accuracy: 0.1835\n",
      "Epoch 23/200\n",
      "4/4 [==============================] - 0s 6ms/step - loss: 2.1754 - accuracy: 0.1927\n",
      "Epoch 24/200\n",
      "4/4 [==============================] - 0s 6ms/step - loss: 2.1676 - accuracy: 0.1927\n",
      "Epoch 25/200\n",
      "4/4 [==============================] - 0s 6ms/step - loss: 2.1602 - accuracy: 0.1927\n",
      "Epoch 26/200\n",
      "4/4 [==============================] - 0s 6ms/step - loss: 2.1506 - accuracy: 0.1927\n",
      "Epoch 27/200\n",
      "4/4 [==============================] - 0s 6ms/step - loss: 2.1421 - accuracy: 0.1927\n",
      "Epoch 28/200\n",
      "4/4 [==============================] - 0s 7ms/step - loss: 2.1319 - accuracy: 0.1927\n",
      "Epoch 29/200\n",
      "4/4 [==============================] - 0s 7ms/step - loss: 2.1206 - accuracy: 0.1927\n",
      "Epoch 30/200\n",
      "4/4 [==============================] - 0s 7ms/step - loss: 2.1106 - accuracy: 0.2018\n",
      "Epoch 31/200\n",
      "4/4 [==============================] - 0s 7ms/step - loss: 2.0971 - accuracy: 0.2385\n",
      "Epoch 32/200\n",
      "4/4 [==============================] - 0s 7ms/step - loss: 2.0847 - accuracy: 0.2385\n",
      "Epoch 33/200\n",
      "4/4 [==============================] - 0s 6ms/step - loss: 2.0712 - accuracy: 0.2569\n",
      "Epoch 34/200\n",
      "4/4 [==============================] - 0s 7ms/step - loss: 2.0562 - accuracy: 0.2936\n",
      "Epoch 35/200\n",
      "4/4 [==============================] - 0s 7ms/step - loss: 2.0399 - accuracy: 0.3028\n",
      "Epoch 36/200\n",
      "4/4 [==============================] - 0s 6ms/step - loss: 2.0239 - accuracy: 0.3119\n",
      "Epoch 37/200\n",
      "4/4 [==============================] - 0s 6ms/step - loss: 2.0051 - accuracy: 0.3303\n",
      "Epoch 38/200\n",
      "4/4 [==============================] - 0s 7ms/step - loss: 1.9867 - accuracy: 0.3303\n",
      "Epoch 39/200\n",
      "4/4 [==============================] - 0s 6ms/step - loss: 1.9671 - accuracy: 0.3303\n",
      "Epoch 40/200\n",
      "4/4 [==============================] - 0s 6ms/step - loss: 1.9481 - accuracy: 0.3303\n",
      "Epoch 41/200\n",
      "4/4 [==============================] - 0s 6ms/step - loss: 1.9264 - accuracy: 0.3394\n",
      "Epoch 42/200\n",
      "4/4 [==============================] - 0s 6ms/step - loss: 1.9040 - accuracy: 0.3394\n",
      "Epoch 43/200\n",
      "4/4 [==============================] - 0s 6ms/step - loss: 1.8805 - accuracy: 0.3486\n",
      "Epoch 44/200\n",
      "4/4 [==============================] - 0s 6ms/step - loss: 1.8570 - accuracy: 0.3853\n",
      "Epoch 45/200\n",
      "4/4 [==============================] - 0s 6ms/step - loss: 1.8309 - accuracy: 0.3945\n",
      "Epoch 46/200\n",
      "4/4 [==============================] - 0s 6ms/step - loss: 1.8089 - accuracy: 0.4128\n",
      "Epoch 47/200\n",
      "4/4 [==============================] - 0s 7ms/step - loss: 1.7800 - accuracy: 0.4220\n",
      "Epoch 48/200\n",
      "4/4 [==============================] - 0s 6ms/step - loss: 1.7547 - accuracy: 0.4220\n",
      "Epoch 49/200\n",
      "4/4 [==============================] - 0s 6ms/step - loss: 1.7264 - accuracy: 0.4404\n",
      "Epoch 50/200\n",
      "4/4 [==============================] - 0s 6ms/step - loss: 1.7003 - accuracy: 0.4495\n",
      "Epoch 51/200\n",
      "4/4 [==============================] - 0s 7ms/step - loss: 1.6749 - accuracy: 0.4862\n",
      "Epoch 52/200\n",
      "4/4 [==============================] - 0s 5ms/step - loss: 1.6458 - accuracy: 0.5046\n",
      "Epoch 53/200\n",
      "4/4 [==============================] - 0s 6ms/step - loss: 1.6168 - accuracy: 0.5046\n",
      "Epoch 54/200\n",
      "4/4 [==============================] - 0s 6ms/step - loss: 1.5915 - accuracy: 0.5229\n",
      "Epoch 55/200\n",
      "4/4 [==============================] - 0s 6ms/step - loss: 1.5624 - accuracy: 0.5505\n",
      "Epoch 56/200\n",
      "4/4 [==============================] - 0s 6ms/step - loss: 1.5320 - accuracy: 0.5688\n",
      "Epoch 57/200\n",
      "4/4 [==============================] - 0s 6ms/step - loss: 1.5070 - accuracy: 0.5963\n",
      "Epoch 58/200\n",
      "4/4 [==============================] - 0s 6ms/step - loss: 1.4805 - accuracy: 0.5872\n",
      "Epoch 59/200\n",
      "4/4 [==============================] - 0s 7ms/step - loss: 1.4510 - accuracy: 0.5872\n",
      "Epoch 60/200\n",
      "4/4 [==============================] - 0s 6ms/step - loss: 1.4232 - accuracy: 0.5963\n",
      "Epoch 61/200\n",
      "4/4 [==============================] - 0s 7ms/step - loss: 1.3972 - accuracy: 0.5963\n",
      "Epoch 62/200\n",
      "4/4 [==============================] - 0s 6ms/step - loss: 1.3709 - accuracy: 0.5963\n",
      "Epoch 63/200\n",
      "4/4 [==============================] - 0s 6ms/step - loss: 1.3464 - accuracy: 0.6147\n",
      "Epoch 64/200\n",
      "4/4 [==============================] - 0s 6ms/step - loss: 1.3211 - accuracy: 0.6147\n",
      "Epoch 65/200\n",
      "4/4 [==============================] - 0s 15ms/step - loss: 1.2968 - accuracy: 0.6239\n",
      "Epoch 66/200\n",
      "4/4 [==============================] - 0s 7ms/step - loss: 1.2737 - accuracy: 0.6239\n",
      "Epoch 67/200\n",
      "4/4 [==============================] - 0s 7ms/step - loss: 1.2566 - accuracy: 0.6514\n",
      "Epoch 68/200\n",
      "4/4 [==============================] - 0s 6ms/step - loss: 1.2351 - accuracy: 0.6697\n",
      "Epoch 69/200\n",
      "4/4 [==============================] - 0s 6ms/step - loss: 1.2084 - accuracy: 0.6697\n",
      "Epoch 70/200\n",
      "4/4 [==============================] - 0s 6ms/step - loss: 1.1880 - accuracy: 0.6422\n",
      "Epoch 71/200\n",
      "4/4 [==============================] - 0s 7ms/step - loss: 1.1685 - accuracy: 0.6422\n",
      "Epoch 72/200\n",
      "4/4 [==============================] - 0s 6ms/step - loss: 1.1525 - accuracy: 0.6514\n",
      "Epoch 73/200\n",
      "4/4 [==============================] - 0s 6ms/step - loss: 1.1324 - accuracy: 0.6697\n",
      "Epoch 74/200\n",
      "4/4 [==============================] - 0s 6ms/step - loss: 1.1109 - accuracy: 0.6789\n",
      "Epoch 75/200\n",
      "4/4 [==============================] - 0s 6ms/step - loss: 1.0909 - accuracy: 0.6789\n",
      "Epoch 76/200\n",
      "4/4 [==============================] - 0s 6ms/step - loss: 1.0751 - accuracy: 0.7339\n",
      "Epoch 77/200\n",
      "4/4 [==============================] - 0s 6ms/step - loss: 1.0552 - accuracy: 0.7156\n",
      "Epoch 78/200\n",
      "4/4 [==============================] - 0s 7ms/step - loss: 1.0398 - accuracy: 0.7064\n",
      "Epoch 79/200\n",
      "4/4 [==============================] - 0s 6ms/step - loss: 1.0246 - accuracy: 0.7064\n",
      "Epoch 80/200\n",
      "4/4 [==============================] - 0s 6ms/step - loss: 1.0063 - accuracy: 0.7156\n",
      "Epoch 81/200\n",
      "4/4 [==============================] - 0s 6ms/step - loss: 0.9899 - accuracy: 0.7339\n",
      "Epoch 82/200\n",
      "4/4 [==============================] - 0s 7ms/step - loss: 0.9745 - accuracy: 0.7431\n",
      "Epoch 83/200\n",
      "4/4 [==============================] - 0s 7ms/step - loss: 0.9605 - accuracy: 0.7615\n",
      "Epoch 84/200\n",
      "4/4 [==============================] - 0s 7ms/step - loss: 0.9408 - accuracy: 0.7798\n",
      "Epoch 85/200\n",
      "4/4 [==============================] - 0s 7ms/step - loss: 0.9311 - accuracy: 0.7982\n",
      "Epoch 86/200\n",
      "4/4 [==============================] - 0s 7ms/step - loss: 0.9195 - accuracy: 0.8257\n",
      "Epoch 87/200\n",
      "4/4 [==============================] - 0s 7ms/step - loss: 0.9001 - accuracy: 0.8349\n",
      "Epoch 88/200\n",
      "4/4 [==============================] - 0s 7ms/step - loss: 0.8843 - accuracy: 0.8257\n",
      "Epoch 89/200\n",
      "4/4 [==============================] - 0s 7ms/step - loss: 0.8737 - accuracy: 0.8165\n",
      "Epoch 90/200\n",
      "4/4 [==============================] - 0s 7ms/step - loss: 0.8631 - accuracy: 0.8349\n",
      "Epoch 91/200\n",
      "4/4 [==============================] - 0s 6ms/step - loss: 0.8450 - accuracy: 0.8532\n",
      "Epoch 92/200\n",
      "4/4 [==============================] - 0s 6ms/step - loss: 0.8302 - accuracy: 0.8532\n",
      "Epoch 93/200\n",
      "4/4 [==============================] - 0s 8ms/step - loss: 0.8211 - accuracy: 0.8440\n",
      "Epoch 94/200\n",
      "4/4 [==============================] - 0s 7ms/step - loss: 0.8093 - accuracy: 0.8624\n",
      "Epoch 95/200\n",
      "4/4 [==============================] - 0s 6ms/step - loss: 0.7932 - accuracy: 0.8532\n",
      "Epoch 96/200\n",
      "4/4 [==============================] - 0s 6ms/step - loss: 0.7827 - accuracy: 0.8624\n",
      "Epoch 97/200\n",
      "4/4 [==============================] - 0s 6ms/step - loss: 0.7698 - accuracy: 0.8624\n",
      "Epoch 98/200\n",
      "4/4 [==============================] - 0s 5ms/step - loss: 0.7574 - accuracy: 0.8716\n",
      "Epoch 99/200\n",
      "4/4 [==============================] - 0s 6ms/step - loss: 0.7443 - accuracy: 0.8716\n",
      "Epoch 100/200\n",
      "4/4 [==============================] - 0s 7ms/step - loss: 0.7357 - accuracy: 0.8899\n",
      "Epoch 101/200\n",
      "4/4 [==============================] - 0s 6ms/step - loss: 0.7228 - accuracy: 0.8991\n",
      "Epoch 102/200\n",
      "4/4 [==============================] - 0s 6ms/step - loss: 0.7179 - accuracy: 0.8807\n",
      "Epoch 103/200\n",
      "4/4 [==============================] - 0s 6ms/step - loss: 0.7036 - accuracy: 0.8807\n",
      "Epoch 104/200\n",
      "4/4 [==============================] - 0s 7ms/step - loss: 0.6920 - accuracy: 0.8807\n",
      "Epoch 105/200\n",
      "4/4 [==============================] - 0s 6ms/step - loss: 0.6828 - accuracy: 0.8899\n",
      "Epoch 106/200\n",
      "4/4 [==============================] - 0s 6ms/step - loss: 0.6702 - accuracy: 0.8899\n",
      "Epoch 107/200\n",
      "4/4 [==============================] - 0s 6ms/step - loss: 0.6640 - accuracy: 0.8899\n",
      "Epoch 108/200\n",
      "4/4 [==============================] - 0s 6ms/step - loss: 0.6489 - accuracy: 0.8991\n",
      "Epoch 109/200\n",
      "4/4 [==============================] - 0s 6ms/step - loss: 0.6431 - accuracy: 0.8991\n",
      "Epoch 110/200\n",
      "4/4 [==============================] - 0s 6ms/step - loss: 0.6350 - accuracy: 0.8991\n",
      "Epoch 111/200\n",
      "4/4 [==============================] - 0s 6ms/step - loss: 0.6219 - accuracy: 0.9083\n",
      "Epoch 112/200\n",
      "4/4 [==============================] - 0s 7ms/step - loss: 0.6178 - accuracy: 0.9083\n",
      "Epoch 113/200\n",
      "4/4 [==============================] - 0s 6ms/step - loss: 0.6041 - accuracy: 0.8991\n",
      "Epoch 114/200\n",
      "4/4 [==============================] - 0s 7ms/step - loss: 0.5981 - accuracy: 0.8991\n",
      "Epoch 115/200\n",
      "4/4 [==============================] - 0s 7ms/step - loss: 0.5890 - accuracy: 0.9083\n",
      "Epoch 116/200\n",
      "4/4 [==============================] - 0s 7ms/step - loss: 0.5765 - accuracy: 0.9174\n",
      "Epoch 117/200\n",
      "4/4 [==============================] - 0s 7ms/step - loss: 0.5703 - accuracy: 0.9083\n",
      "Epoch 118/200\n",
      "4/4 [==============================] - 0s 6ms/step - loss: 0.5619 - accuracy: 0.9083\n",
      "Epoch 119/200\n",
      "4/4 [==============================] - 0s 6ms/step - loss: 0.5505 - accuracy: 0.9174\n",
      "Epoch 120/200\n",
      "4/4 [==============================] - 0s 5ms/step - loss: 0.5435 - accuracy: 0.9083\n",
      "Epoch 121/200\n",
      "4/4 [==============================] - 0s 6ms/step - loss: 0.5353 - accuracy: 0.9174\n",
      "Epoch 122/200\n",
      "4/4 [==============================] - 0s 6ms/step - loss: 0.5260 - accuracy: 0.8991\n",
      "Epoch 123/200\n",
      "4/4 [==============================] - 0s 6ms/step - loss: 0.5202 - accuracy: 0.8991\n",
      "Epoch 124/200\n",
      "4/4 [==============================] - 0s 6ms/step - loss: 0.5127 - accuracy: 0.9174\n",
      "Epoch 125/200\n",
      "4/4 [==============================] - 0s 7ms/step - loss: 0.5065 - accuracy: 0.9174\n",
      "Epoch 126/200\n",
      "4/4 [==============================] - 0s 6ms/step - loss: 0.4979 - accuracy: 0.9174\n",
      "Epoch 127/200\n",
      "4/4 [==============================] - 0s 6ms/step - loss: 0.4879 - accuracy: 0.9266\n",
      "Epoch 128/200\n",
      "4/4 [==============================] - 0s 6ms/step - loss: 0.4815 - accuracy: 0.9266\n",
      "Epoch 129/200\n",
      "4/4 [==============================] - 0s 6ms/step - loss: 0.4781 - accuracy: 0.9266\n",
      "Epoch 130/200\n",
      "4/4 [==============================] - 0s 6ms/step - loss: 0.4703 - accuracy: 0.9266\n",
      "Epoch 131/200\n",
      "4/4 [==============================] - 0s 7ms/step - loss: 0.4616 - accuracy: 0.9266\n",
      "Epoch 132/200\n",
      "4/4 [==============================] - 0s 7ms/step - loss: 0.4588 - accuracy: 0.9266\n",
      "Epoch 133/200\n",
      "4/4 [==============================] - 0s 6ms/step - loss: 0.4497 - accuracy: 0.9266\n",
      "Epoch 134/200\n",
      "4/4 [==============================] - 0s 6ms/step - loss: 0.4439 - accuracy: 0.9358\n",
      "Epoch 135/200\n",
      "4/4 [==============================] - 0s 6ms/step - loss: 0.4364 - accuracy: 0.9358\n",
      "Epoch 136/200\n",
      "4/4 [==============================] - 0s 6ms/step - loss: 0.4314 - accuracy: 0.9358\n",
      "Epoch 137/200\n",
      "4/4 [==============================] - 0s 6ms/step - loss: 0.4267 - accuracy: 0.9358\n",
      "Epoch 138/200\n",
      "4/4 [==============================] - 0s 6ms/step - loss: 0.4175 - accuracy: 0.9358\n",
      "Epoch 139/200\n",
      "4/4 [==============================] - 0s 7ms/step - loss: 0.4121 - accuracy: 0.9358\n",
      "Epoch 140/200\n",
      "4/4 [==============================] - 0s 7ms/step - loss: 0.4118 - accuracy: 0.9450\n",
      "Epoch 141/200\n",
      "4/4 [==============================] - 0s 6ms/step - loss: 0.4046 - accuracy: 0.9450\n",
      "Epoch 142/200\n",
      "4/4 [==============================] - 0s 7ms/step - loss: 0.4010 - accuracy: 0.9358\n",
      "Epoch 143/200\n",
      "4/4 [==============================] - 0s 7ms/step - loss: 0.3885 - accuracy: 0.9358\n",
      "Epoch 144/200\n",
      "4/4 [==============================] - 0s 7ms/step - loss: 0.3925 - accuracy: 0.9541\n",
      "Epoch 145/200\n",
      "4/4 [==============================] - 0s 7ms/step - loss: 0.3835 - accuracy: 0.9541\n",
      "Epoch 146/200\n",
      "4/4 [==============================] - 0s 7ms/step - loss: 0.3780 - accuracy: 0.9358\n",
      "Epoch 147/200\n",
      "4/4 [==============================] - 0s 7ms/step - loss: 0.3764 - accuracy: 0.9358\n",
      "Epoch 148/200\n",
      "4/4 [==============================] - 0s 6ms/step - loss: 0.3682 - accuracy: 0.9541\n",
      "Epoch 149/200\n",
      "4/4 [==============================] - 0s 6ms/step - loss: 0.3664 - accuracy: 0.9541\n",
      "Epoch 150/200\n",
      "4/4 [==============================] - 0s 6ms/step - loss: 0.3593 - accuracy: 0.9541\n",
      "Epoch 151/200\n",
      "4/4 [==============================] - 0s 6ms/step - loss: 0.3562 - accuracy: 0.9541\n",
      "Epoch 152/200\n",
      "4/4 [==============================] - 0s 6ms/step - loss: 0.3512 - accuracy: 0.9541\n",
      "Epoch 153/200\n",
      "4/4 [==============================] - 0s 7ms/step - loss: 0.3434 - accuracy: 0.9541\n",
      "Epoch 154/200\n",
      "4/4 [==============================] - 0s 7ms/step - loss: 0.3415 - accuracy: 0.9541\n",
      "Epoch 155/200\n",
      "4/4 [==============================] - 0s 6ms/step - loss: 0.3381 - accuracy: 0.9541\n",
      "Epoch 156/200\n",
      "4/4 [==============================] - 0s 6ms/step - loss: 0.3331 - accuracy: 0.9450\n",
      "Epoch 157/200\n",
      "4/4 [==============================] - 0s 7ms/step - loss: 0.3327 - accuracy: 0.9633\n",
      "Epoch 158/200\n",
      "4/4 [==============================] - 0s 6ms/step - loss: 0.3287 - accuracy: 0.9725\n",
      "Epoch 159/200\n",
      "4/4 [==============================] - 0s 7ms/step - loss: 0.3199 - accuracy: 0.9541\n",
      "Epoch 160/200\n",
      "4/4 [==============================] - 0s 6ms/step - loss: 0.3194 - accuracy: 0.9541\n",
      "Epoch 161/200\n",
      "4/4 [==============================] - 0s 7ms/step - loss: 0.3165 - accuracy: 0.9541\n",
      "Epoch 162/200\n",
      "4/4 [==============================] - 0s 6ms/step - loss: 0.3106 - accuracy: 0.9541\n",
      "Epoch 163/200\n",
      "4/4 [==============================] - 0s 6ms/step - loss: 0.3070 - accuracy: 0.9633\n",
      "Epoch 164/200\n",
      "4/4 [==============================] - 0s 6ms/step - loss: 0.3049 - accuracy: 0.9541\n",
      "Epoch 165/200\n",
      "4/4 [==============================] - 0s 6ms/step - loss: 0.3019 - accuracy: 0.9541\n",
      "Epoch 166/200\n",
      "4/4 [==============================] - 0s 6ms/step - loss: 0.2972 - accuracy: 0.9541\n",
      "Epoch 167/200\n",
      "4/4 [==============================] - 0s 6ms/step - loss: 0.2938 - accuracy: 0.9633\n",
      "Epoch 168/200\n",
      "4/4 [==============================] - 0s 7ms/step - loss: 0.2910 - accuracy: 0.9633\n",
      "Epoch 169/200\n",
      "4/4 [==============================] - 0s 6ms/step - loss: 0.2875 - accuracy: 0.9725\n",
      "Epoch 170/200\n",
      "4/4 [==============================] - 0s 6ms/step - loss: 0.2837 - accuracy: 0.9725\n",
      "Epoch 171/200\n",
      "4/4 [==============================] - 0s 5ms/step - loss: 0.2803 - accuracy: 0.9633\n",
      "Epoch 172/200\n",
      "4/4 [==============================] - 0s 7ms/step - loss: 0.2783 - accuracy: 0.9541\n",
      "Epoch 173/200\n",
      "4/4 [==============================] - 0s 6ms/step - loss: 0.2740 - accuracy: 0.9541\n",
      "Epoch 174/200\n",
      "4/4 [==============================] - 0s 7ms/step - loss: 0.2709 - accuracy: 0.9633\n",
      "Epoch 175/200\n",
      "4/4 [==============================] - 0s 7ms/step - loss: 0.2695 - accuracy: 0.9633\n",
      "Epoch 176/200\n",
      "4/4 [==============================] - 0s 6ms/step - loss: 0.2635 - accuracy: 0.9633\n",
      "Epoch 177/200\n",
      "4/4 [==============================] - 0s 6ms/step - loss: 0.2647 - accuracy: 0.9633\n",
      "Epoch 178/200\n",
      "4/4 [==============================] - 0s 6ms/step - loss: 0.2625 - accuracy: 0.9633\n",
      "Epoch 179/200\n",
      "4/4 [==============================] - 0s 7ms/step - loss: 0.2581 - accuracy: 0.9633\n",
      "Epoch 180/200\n",
      "4/4 [==============================] - 0s 7ms/step - loss: 0.2530 - accuracy: 0.9633\n",
      "Epoch 181/200\n",
      "4/4 [==============================] - 0s 6ms/step - loss: 0.2535 - accuracy: 0.9633\n",
      "Epoch 182/200\n",
      "4/4 [==============================] - 0s 6ms/step - loss: 0.2498 - accuracy: 0.9633\n",
      "Epoch 183/200\n",
      "4/4 [==============================] - 0s 6ms/step - loss: 0.2453 - accuracy: 0.9725\n",
      "Epoch 184/200\n",
      "4/4 [==============================] - 0s 7ms/step - loss: 0.2429 - accuracy: 0.9725\n",
      "Epoch 185/200\n",
      "4/4 [==============================] - 0s 6ms/step - loss: 0.2409 - accuracy: 0.9725\n",
      "Epoch 186/200\n",
      "4/4 [==============================] - 0s 6ms/step - loss: 0.2381 - accuracy: 0.9725\n",
      "Epoch 187/200\n",
      "4/4 [==============================] - 0s 6ms/step - loss: 0.2355 - accuracy: 0.9725\n",
      "Epoch 188/200\n",
      "4/4 [==============================] - 0s 7ms/step - loss: 0.2337 - accuracy: 0.9725\n",
      "Epoch 189/200\n",
      "4/4 [==============================] - 0s 7ms/step - loss: 0.2311 - accuracy: 0.9817\n",
      "Epoch 190/200\n",
      "4/4 [==============================] - 0s 7ms/step - loss: 0.2286 - accuracy: 0.9725\n",
      "Epoch 191/200\n",
      "4/4 [==============================] - 0s 6ms/step - loss: 0.2272 - accuracy: 0.9725\n",
      "Epoch 192/200\n",
      "4/4 [==============================] - 0s 6ms/step - loss: 0.2250 - accuracy: 0.9725\n",
      "Epoch 193/200\n",
      "4/4 [==============================] - 0s 6ms/step - loss: 0.2222 - accuracy: 0.9725\n",
      "Epoch 194/200\n",
      "4/4 [==============================] - 0s 6ms/step - loss: 0.2209 - accuracy: 0.9725\n",
      "Epoch 195/200\n",
      "4/4 [==============================] - 0s 8ms/step - loss: 0.2179 - accuracy: 0.9817\n",
      "Epoch 196/200\n",
      "4/4 [==============================] - 0s 6ms/step - loss: 0.2147 - accuracy: 0.9817\n",
      "Epoch 197/200\n",
      "4/4 [==============================] - 0s 7ms/step - loss: 0.2127 - accuracy: 0.9725\n",
      "Epoch 198/200\n",
      "4/4 [==============================] - 0s 7ms/step - loss: 0.2103 - accuracy: 0.9725\n",
      "Epoch 199/200\n",
      "4/4 [==============================] - 0s 6ms/step - loss: 0.2082 - accuracy: 0.9725\n",
      "Epoch 200/200\n",
      "4/4 [==============================] - 0s 6ms/step - loss: 0.2074 - accuracy: 0.9725\n"
     ]
    }
   ],
   "source": [
    "#training the model\n",
    "train = model.fit(x_train,y_train,epochs=200)"
   ]
  },
  {
   "cell_type": "markdown",
   "metadata": {
    "pycharm": {
     "name": "#%% md\n"
    }
   },
   "source": [
    "<h2> Model Analysis </h2>\n",
    "\n",
    "The model got an accuracy of over 95% after 200 epoch."
   ]
  },
  {
   "cell_type": "code",
   "execution_count": 79,
   "metadata": {
    "colab": {
     "base_uri": "https://localhost:8080/",
     "height": 282
    },
    "id": "BcWCycGSLbeB",
    "outputId": "b8a60f76-7488-466e-8950-3d42b4b7b4c3"
   },
   "outputs": [
    {
     "data": {
      "text/plain": "<matplotlib.legend.Legend at 0x1641a760f08>"
     },
     "execution_count": 79,
     "metadata": {},
     "output_type": "execute_result"
    },
    {
     "data": {
      "text/plain": "<Figure size 640x480 with 1 Axes>",
      "image/png": "[encoded data removed]"
     },
     "metadata": {},
     "output_type": "display_data"
    }
   ],
   "source": [
    "#plotting model accuracy\n",
    "plt.plot(train.history['accuracy'],label='training set accuracy')\n",
    "plt.plot(train.history['loss'],label='training set loss')\n",
    "plt.legend()"
   ]
  },
  {
   "cell_type": "markdown",
   "metadata": {
    "pycharm": {
     "name": "#%% md\n"
    }
   },
   "source": [
    "<h2> Testing </h2>\n",
    "\n"
   ]
  },
  {
   "cell_type": "code",
   "execution_count": 65,
   "metadata": {
    "colab": {
     "base_uri": "https://localhost:8080/",
     "height": 241
    },
    "id": "71ITeJqtfV0s",
    "outputId": "8da86848-8252-4ced-b535-df0c03edfaa4",
    "pycharm": {
     "name": "#%%\n"
    }
   },
   "outputs": [
    {
     "name": "stdout",
     "output_type": "stream",
     "text": [
      "Receptionist:  We are located at 9 Engineering Drive 1, #07-26 EA, Singapore 117575\n",
      "Receptionist:  We have reserved a slot for you\n",
      "Receptionist:  We have reserved a slot for you\n",
      "Receptionist:  We have reserved a slot for you\n",
      "Receptionist:  You're welcome, we look forward to seeing you soon\n"
     ]
    }
   ],
   "source": [
    "#chatting\n",
    "import random\n",
    "\n",
    "while True:\n",
    "  texts_p = []\n",
    "  prediction_input = input('You : ')\n",
    "\n",
    "  #removing punctuation and converting to lowercase\n",
    "  prediction_input = [letters.lower() for letters in prediction_input if letters not in string.punctuation]\n",
    "  prediction_input = ''.join(prediction_input)\n",
    "  texts_p.append(prediction_input)\n",
    "\n",
    "  #tokenizing and padding\n",
    "  prediction_input = tokenizer.texts_to_sequences(texts_p)\n",
    "  prediction_input = np.array(prediction_input).reshape(-1)\n",
    "  prediction_input = pad_sequences([prediction_input],input_shape)\n",
    "\n",
    "  #getting output from model\n",
    "  output = model.predict(prediction_input)\n",
    "  output = output.argmax()\n",
    "\n",
    "  #finding the right tag and predicting\n",
    "  response_tag = le.inverse_transform([output])[0]\n",
    "\n",
    "  #getting output text and output it as speech\n",
    "  response = random.choice(responses[response_tag])\n",
    "  print(\"Receptionist: \",response)\n",
    "  speech = gTTS(text=response, lang='en', slow=False)\n",
    "  speech.save(\"speech.mp3\")\n",
    "  os.system(\"speech.mp3\")\n",
    "\n",
    "  #end conversation if users says goodbye\n",
    "  if response_tag == \"goodbye\":\n",
    "    break"
   ]
  },
  {
   "cell_type": "markdown",
   "metadata": {},
   "source": [
    "<h2> Conclusion </h2>\n",
    "So, This is the Chatbot that I have created with tensorflow2 utilizing the power of embedding matrix.<br>\n",
    "This was created in memory og <b> Going Merry </b> , a ship from a manga called \"One Piece\" which revolves around the story of 5 pirates. "
   ]
  },
  {
   "cell_type": "code",
   "execution_count": 65,
   "metadata": {},
   "outputs": [],
   "source": []
  },
  {
   "cell_type": "code",
   "execution_count": 65,
   "metadata": {},
   "outputs": [],
   "source": []
  }
 ],
 "metadata": {
  "colab": {
   "collapsed_sections": [],
   "name": "chatbot.ipynb",
   "provenance": [],
   "toc_visible": true
  },
  "kernelspec": {
   "display_name": "Python 3",
   "language": "python",
   "name": "python3"
  },
  "language_info": {
   "codemirror_mode": {
    "name": "ipython",
    "version": 3
   },
   "file_extension": ".py",
   "mimetype": "text/x-python",
   "name": "python",
   "nbconvert_exporter": "python",
   "pygments_lexer": "ipython3",
   "version": "3.8.5"
  }
 },
 "nbformat": 4,
 "nbformat_minor": 4
}