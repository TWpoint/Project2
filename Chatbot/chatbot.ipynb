{
 "cells": [
  {
   "cell_type": "markdown",
   "metadata": {
    "pycharm": {
     "name": "#%% md\n"
    }
   },
   "source": [
    "<h1 style = \"text-align:center\"> Chatbot for Pirate Recruitment </h1>\n",
    "<img src = \"https://cdn-images-1.medium.com/max/800/1*SAHhdvu3v9l81OjsfBa_Yw.jpeg\" />\n",
    "\n",
    "Going Merry is a chatbot that helps in recruitment of pirates all around the world. this answer user's simple questions regarding the recruitment process, pre-requisites, etc."
   ]
  },
  {
   "cell_type": "markdown",
   "metadata": {
    "pycharm": {
     "name": "#%% md\n"
    }
   },
   "source": [
    "<h2>Libraries</h2>\n",
    "The main libraries that are used are tensorflow2, keras , numpy and pandas"
   ]
  },
  {
   "cell_type": "code",
   "execution_count": 1,
   "metadata": {
    "id": "70nBFLDY0kcP",
    "pycharm": {
     "name": "#%%\n"
    }
   },
   "outputs": [],
   "source": [
    "#importing the libraries\n",
    "import tensorflow as tf\n",
    "import numpy as np\n",
    "import pandas as pd\n",
    "import json\n",
    "import nltk\n",
    "from tensorflow.keras.preprocessing.text import Tokenizer\n",
    "from tensorflow.keras.layers import Input, Embedding, LSTM , Dense,GlobalMaxPooling1D,Flatten\n",
    "from tensorflow.keras.models import Model\n",
    "import matplotlib.pyplot as plt\n",
    "from gtts import gTTS as gTTS\n",
    "import os"
   ]
  },
  {
   "cell_type": "markdown",
   "metadata": {
    "pycharm": {
     "name": "#%% md\n"
    }
   },
   "source": [
    "<h2> Importing the Data </h2>\n",
    "\n",
    "The data is stored in a json file, which can be imported and used as a pandas dataframe.\n",
    "This data was manually created by me. hence, it's not that big.<br>\n",
    "we all know that deep learning requires large chunks of data. but, That is not the case here. I have utilized a neural network architecture powerful enough to handle this small amount of data"
   ]
  },
  {
   "cell_type": "code",
   "execution_count": 2,
   "metadata": {
    "id": "Rvgn3orx0sAJ",
    "pycharm": {
     "name": "#%%\n"
    }
   },
   "outputs": [],
   "source": [
    "#importing the dataset\n",
    "with open('content.json') as content:\n",
    "  data1 = json.load(content)"
   ]
  },
  {
   "cell_type": "code",
   "execution_count": 3,
   "metadata": {
    "id": "PGGvrVhl07o8",
    "pycharm": {
     "name": "#%%\n"
    }
   },
   "outputs": [],
   "source": [
    "#getting all the data to lists\n",
    "tags = []\n",
    "inputs = []\n",
    "responses={}\n",
    "for intent in data1['intents']:\n",
    "  responses[intent['tag']]=intent['responses']\n",
    "  for lines in intent['input']:\n",
    "    inputs.append(lines)\n",
    "    tags.append(intent['tag'])"
   ]
  },
  {
   "cell_type": "code",
   "execution_count": 4,
   "metadata": {
    "id": "ruibWXd_3xFR",
    "pycharm": {
     "name": "#%%\n"
    }
   },
   "outputs": [],
   "source": [
    "#converting to dataframe\n",
    "data = pd.DataFrame({\"inputs\":inputs,\n",
    "                     \"tags\":tags})"
   ]
  },
  {
   "cell_type": "code",
   "execution_count": 5,
   "metadata": {
    "colab": {
     "base_uri": "https://localhost:8080/",
     "height": 419
    },
    "id": "elc0th634mTr",
    "outputId": "e4d9b7bc-3067-4c05-be6c-c0b3393c6d7b",
    "pycharm": {
     "name": "#%%\n"
    }
   },
   "outputs": [
    {
     "data": {
      "text/plain": "                                          inputs           tags\n0                                          hello       greeting\n1                                       hi there       greeting\n2                               nice to meet you       greeting\n3       hi, is this is the pirate's organization       greeting\n4                             any pirates here ?       greeting\n..                                           ...            ...\n76         tell me more about the pre requisites  prerequisites\n77    give more details about the pre-requisites  prerequisites\n78                     What are the requirements  prerequisites\n79                 what's the basic requirements  prerequisites\n80  what are the basic skills to get recruited ?  prerequisites\n\n[81 rows x 2 columns]",
      "text/html": "<div>\n<style scoped>\n    .dataframe tbody tr th:only-of-type {\n        vertical-align: middle;\n    }\n\n    .dataframe tbody tr th {\n        vertical-align: top;\n    }\n\n    .dataframe thead th {\n        text-align: right;\n    }\n</style>\n<table border=\"1\" class=\"dataframe\">\n  <thead>\n    <tr style=\"text-align: right;\">\n      <th></th>\n      <th>inputs</th>\n      <th>tags</th>\n    </tr>\n  </thead>\n  <tbody>\n    <tr>\n      <th>0</th>\n      <td>hello</td>\n      <td>greeting</td>\n    </tr>\n    <tr>\n      <th>1</th>\n      <td>hi there</td>\n      <td>greeting</td>\n    </tr>\n    <tr>\n      <th>2</th>\n      <td>nice to meet you</td>\n      <td>greeting</td>\n    </tr>\n    <tr>\n      <th>3</th>\n      <td>hi, is this is the pirate's organization</td>\n      <td>greeting</td>\n    </tr>\n    <tr>\n      <th>4</th>\n      <td>any pirates here ?</td>\n      <td>greeting</td>\n    </tr>\n    <tr>\n      <th>...</th>\n      <td>...</td>\n      <td>...</td>\n    </tr>\n    <tr>\n      <th>76</th>\n      <td>tell me more about the pre requisites</td>\n      <td>prerequisites</td>\n    </tr>\n    <tr>\n      <th>77</th>\n      <td>give more details about the pre-requisites</td>\n      <td>prerequisites</td>\n    </tr>\n    <tr>\n      <th>78</th>\n      <td>What are the requirements</td>\n      <td>prerequisites</td>\n    </tr>\n    <tr>\n      <th>79</th>\n      <td>what's the basic requirements</td>\n      <td>prerequisites</td>\n    </tr>\n    <tr>\n      <th>80</th>\n      <td>what are the basic skills to get recruited ?</td>\n      <td>prerequisites</td>\n    </tr>\n  </tbody>\n</table>\n<p>81 rows × 2 columns</p>\n</div>"
     },
     "execution_count": 5,
     "metadata": {},
     "output_type": "execute_result"
    }
   ],
   "source": [
    "#printing the data\n",
    "data"
   ]
  },
  {
   "cell_type": "code",
   "execution_count": 6,
   "metadata": {
    "id": "xd5Z3_oFf7iA",
    "pycharm": {
     "name": "#%%\n"
    }
   },
   "outputs": [],
   "source": [
    "data = data.sample(frac=1)"
   ]
  },
  {
   "cell_type": "markdown",
   "metadata": {
    "pycharm": {
     "name": "#%% md\n"
    }
   },
   "source": [
    "<h2> Pre-Processing </h2>\n",
    "\n",
    "Important pre-processing such as removing the punctuations, converting to lowercase, encoding the textual data to numerical data are done"
   ]
  },
  {
   "cell_type": "code",
   "execution_count": 7,
   "metadata": {
    "colab": {
     "base_uri": "https://localhost:8080/",
     "height": 419
    },
    "id": "mm4koLwuGGJb",
    "outputId": "94d4af63-5fe5-42b9-aced-8d65e5616060",
    "pycharm": {
     "name": "#%%\n"
    }
   },
   "outputs": [
    {
     "data": {
      "text/plain": "                                inputs         tags\n41                  are you a chatbot     whoareyou\n65      steps to join the organization         join\n23              i will catch you later      goodbye\n7                                  hey     greeting\n31             i am fine  how are you        howami\n..                                 ...          ...\n47                 where are you from   whereareyou\n62  how to join the straw hat pirates          join\n29                         bye brother      goodbye\n26            i will talk to you later      goodbye\n60          how to join the strawhats          join\n\n[81 rows x 2 columns]",
      "text/html": "<div>\n<style scoped>\n    .dataframe tbody tr th:only-of-type {\n        vertical-align: middle;\n    }\n\n    .dataframe tbody tr th {\n        vertical-align: top;\n    }\n\n    .dataframe thead th {\n        text-align: right;\n    }\n</style>\n<table border=\"1\" class=\"dataframe\">\n  <thead>\n    <tr style=\"text-align: right;\">\n      <th></th>\n      <th>inputs</th>\n      <th>tags</th>\n    </tr>\n  </thead>\n  <tbody>\n    <tr>\n      <th>41</th>\n      <td>are you a chatbot</td>\n      <td>whoareyou</td>\n    </tr>\n    <tr>\n      <th>65</th>\n      <td>steps to join the organization</td>\n      <td>join</td>\n    </tr>\n    <tr>\n      <th>23</th>\n      <td>i will catch you later</td>\n      <td>goodbye</td>\n    </tr>\n    <tr>\n      <th>7</th>\n      <td>hey</td>\n      <td>greeting</td>\n    </tr>\n    <tr>\n      <th>31</th>\n      <td>i am fine  how are you</td>\n      <td>howami</td>\n    </tr>\n    <tr>\n      <th>...</th>\n      <td>...</td>\n      <td>...</td>\n    </tr>\n    <tr>\n      <th>47</th>\n      <td>where are you from</td>\n      <td>whereareyou</td>\n    </tr>\n    <tr>\n      <th>62</th>\n      <td>how to join the straw hat pirates</td>\n      <td>join</td>\n    </tr>\n    <tr>\n      <th>29</th>\n      <td>bye brother</td>\n      <td>goodbye</td>\n    </tr>\n    <tr>\n      <th>26</th>\n      <td>i will talk to you later</td>\n      <td>goodbye</td>\n    </tr>\n    <tr>\n      <th>60</th>\n      <td>how to join the strawhats</td>\n      <td>join</td>\n    </tr>\n  </tbody>\n</table>\n<p>81 rows × 2 columns</p>\n</div>"
     },
     "execution_count": 7,
     "metadata": {},
     "output_type": "execute_result"
    }
   ],
   "source": [
    "#removing punctuations\n",
    "import string\n",
    "data['inputs'] = data['inputs'].apply(lambda wrd:[ltrs.lower() for ltrs in wrd if ltrs not in string.punctuation])\n",
    "data['inputs'] = data['inputs'].apply(lambda wrd: ''.join(wrd))\n",
    "data"
   ]
  },
  {
   "cell_type": "code",
   "execution_count": 8,
   "metadata": {
    "id": "eNahMu32_h1Q",
    "pycharm": {
     "name": "#%%\n"
    }
   },
   "outputs": [],
   "source": [
    "#tokenize the data\n",
    "from tensorflow.keras.preprocessing.text import Tokenizer\n",
    "tokenizer = Tokenizer(num_words=2000)\n",
    "tokenizer.fit_on_texts(data['inputs'])\n",
    "train = tokenizer.texts_to_sequences(data['inputs'])\n",
    "#apply padding\n",
    "from tensorflow.keras.preprocessing.sequence import pad_sequences\n",
    "x_train = pad_sequences(train)\n",
    "\n",
    "#encoding the outputs\n",
    "from sklearn.preprocessing import LabelEncoder\n",
    "le = LabelEncoder()\n",
    "y_train = le.fit_transform(data['tags'])"
   ]
  },
  {
   "cell_type": "markdown",
   "metadata": {
    "pycharm": {
     "name": "#%% md\n"
    }
   },
   "source": [
    "Tensorflow's tokenizer assigns a unique token to each distinct word. and padding is done to get all the data to the same length so as to send it to an rnn layer"
   ]
  },
  {
   "cell_type": "code",
   "execution_count": 9,
   "metadata": {
    "colab": {
     "base_uri": "https://localhost:8080/",
     "height": 34
    },
    "id": "A-VY9ZnyM_65",
    "outputId": "13522291-df62-4de7-9bba-7b09903d9fa6",
    "pycharm": {
     "name": "#%%\n"
    }
   },
   "outputs": [
    {
     "name": "stdout",
     "output_type": "stream",
     "text": [
      "8\n"
     ]
    }
   ],
   "source": [
    "input_shape = x_train.shape[1]\n",
    "print(input_shape)"
   ]
  },
  {
   "cell_type": "code",
   "execution_count": 10,
   "metadata": {
    "colab": {
     "base_uri": "https://localhost:8080/",
     "height": 51
    },
    "id": "OaXDwXOIAkR4",
    "outputId": "f3ea1290-2abc-4759-b692-3c8860559c74",
    "pycharm": {
     "name": "#%%\n"
    }
   },
   "outputs": [
    {
     "name": "stdout",
     "output_type": "stream",
     "text": [
      "number of unique words :  96\n",
      "output length:  8\n"
     ]
    }
   ],
   "source": [
    "#define vocabulary\n",
    "vocabulary = len(tokenizer.word_index)\n",
    "print(\"number of unique words : \",vocabulary)\n",
    "output_length = le.classes_.shape[0]\n",
    "print(\"output length: \",output_length)"
   ]
  },
  {
   "cell_type": "markdown",
   "metadata": {
    "pycharm": {
     "name": "#%% md\n"
    }
   },
   "source": [
    "<h2>Neural Network</h2>\n",
    "\n",
    "The Network consist of an embedding layer which is one of the most powerful things in the field of natural language processing. the outputs of the embedding layer is the input of the reccurent layer with lstm gate. then, the output is flattened and a regular dense layer is used with a softmax activation function.\n",
    "\n",
    "The main part is the embedding layer which gives has a corresponding vector for each word in the dataset"
   ]
  },
  {
   "cell_type": "code",
   "execution_count": 11,
   "metadata": {
    "id": "vaCZkzTEJCd6",
    "pycharm": {
     "name": "#%%\n"
    }
   },
   "outputs": [],
   "source": [
    "#creating the model\n",
    "\n",
    "i = Input(shape=(input_shape,))\n",
    "x = Embedding(vocabulary+1,10)(i)\n",
    "x = LSTM(10,return_sequences=True)(x)\n",
    "x = Flatten()(x)\n",
    "x = Dense(output_length,activation=\"softmax\")(x)\n",
    "model  = Model(i,x)"
   ]
  },
  {
   "cell_type": "code",
   "execution_count": 12,
   "metadata": {
    "id": "rqF-km_SK04Q",
    "pycharm": {
     "name": "#%%\n"
    }
   },
   "outputs": [],
   "source": [
    "#compiling the model\n",
    "model.compile(loss=\"sparse_categorical_crossentropy\",optimizer='adam',metrics=['accuracy'])"
   ]
  },
  {
   "cell_type": "code",
   "execution_count": 13,
   "metadata": {
    "colab": {
     "base_uri": "https://localhost:8080/",
     "height": 1000
    },
    "id": "Iml1HlsFLUFY",
    "outputId": "9102eefa-b6e3-43fc-bad1-1ae378688150",
    "pycharm": {
     "name": "#%%\n"
    }
   },
   "outputs": [
    {
     "name": "stdout",
     "output_type": "stream",
     "text": [
      "Epoch 1/200\n",
      "3/3 [==============================] - 2s 8ms/step - loss: 2.0787 - accuracy: 0.0988\n",
      "Epoch 2/200\n",
      "3/3 [==============================] - 0s 8ms/step - loss: 2.0749 - accuracy: 0.1605\n",
      "Epoch 3/200\n",
      "3/3 [==============================] - 0s 8ms/step - loss: 2.0712 - accuracy: 0.1852\n",
      "Epoch 4/200\n",
      "3/3 [==============================] - 0s 8ms/step - loss: 2.0677 - accuracy: 0.2222\n",
      "Epoch 5/200\n",
      "3/3 [==============================] - 0s 8ms/step - loss: 2.0643 - accuracy: 0.2222\n",
      "Epoch 6/200\n",
      "3/3 [==============================] - 0s 8ms/step - loss: 2.0600 - accuracy: 0.2222\n",
      "Epoch 7/200\n",
      "3/3 [==============================] - 0s 8ms/step - loss: 2.0559 - accuracy: 0.2222\n",
      "Epoch 8/200\n",
      "3/3 [==============================] - 0s 8ms/step - loss: 2.0513 - accuracy: 0.2222\n",
      "Epoch 9/200\n",
      "3/3 [==============================] - 0s 8ms/step - loss: 2.0462 - accuracy: 0.2222\n",
      "Epoch 10/200\n",
      "3/3 [==============================] - 0s 8ms/step - loss: 2.0412 - accuracy: 0.2222\n",
      "Epoch 11/200\n",
      "3/3 [==============================] - 0s 8ms/step - loss: 2.0349 - accuracy: 0.2222\n",
      "Epoch 12/200\n",
      "3/3 [==============================] - 0s 8ms/step - loss: 2.0281 - accuracy: 0.2222\n",
      "Epoch 13/200\n",
      "3/3 [==============================] - 0s 0s/step - loss: 2.0208 - accuracy: 0.2222\n",
      "Epoch 14/200\n",
      "3/3 [==============================] - 0s 8ms/step - loss: 2.0128 - accuracy: 0.2346\n",
      "Epoch 15/200\n",
      "3/3 [==============================] - 0s 0s/step - loss: 2.0033 - accuracy: 0.2222\n",
      "Epoch 16/200\n",
      "3/3 [==============================] - 0s 8ms/step - loss: 1.9942 - accuracy: 0.2222\n",
      "Epoch 17/200\n",
      "3/3 [==============================] - 0s 8ms/step - loss: 1.9830 - accuracy: 0.2222\n",
      "Epoch 18/200\n",
      "3/3 [==============================] - 0s 8ms/step - loss: 1.9716 - accuracy: 0.2222\n",
      "Epoch 19/200\n",
      "3/3 [==============================] - 0s 0s/step - loss: 1.9591 - accuracy: 0.2222\n",
      "Epoch 20/200\n",
      "3/3 [==============================] - 0s 8ms/step - loss: 1.9471 - accuracy: 0.2222\n",
      "Epoch 21/200\n",
      "3/3 [==============================] - 0s 8ms/step - loss: 1.9355 - accuracy: 0.2346\n",
      "Epoch 22/200\n",
      "3/3 [==============================] - 0s 8ms/step - loss: 1.9231 - accuracy: 0.2346\n",
      "Epoch 23/200\n",
      "3/3 [==============================] - 0s 8ms/step - loss: 1.9108 - accuracy: 0.2346\n",
      "Epoch 24/200\n",
      "3/3 [==============================] - 0s 8ms/step - loss: 1.8982 - accuracy: 0.2469\n",
      "Epoch 25/200\n",
      "3/3 [==============================] - 0s 8ms/step - loss: 1.8856 - accuracy: 0.2716\n",
      "Epoch 26/200\n",
      "3/3 [==============================] - 0s 8ms/step - loss: 1.8735 - accuracy: 0.2469\n",
      "Epoch 27/200\n",
      "3/3 [==============================] - 0s 0s/step - loss: 1.8599 - accuracy: 0.2222\n",
      "Epoch 28/200\n",
      "3/3 [==============================] - 0s 8ms/step - loss: 1.8448 - accuracy: 0.1975\n",
      "Epoch 29/200\n",
      "3/3 [==============================] - 0s 11ms/step - loss: 1.8296 - accuracy: 0.1975\n",
      "Epoch 30/200\n",
      "3/3 [==============================] - 0s 0s/step - loss: 1.8133 - accuracy: 0.2099\n",
      "Epoch 31/200\n",
      "3/3 [==============================] - 0s 8ms/step - loss: 1.7953 - accuracy: 0.2099\n",
      "Epoch 32/200\n",
      "3/3 [==============================] - 0s 8ms/step - loss: 1.7789 - accuracy: 0.2099\n",
      "Epoch 33/200\n",
      "3/3 [==============================] - 0s 0s/step - loss: 1.7607 - accuracy: 0.2469\n",
      "Epoch 34/200\n",
      "3/3 [==============================] - 0s 8ms/step - loss: 1.7413 - accuracy: 0.2840\n",
      "Epoch 35/200\n",
      "3/3 [==============================] - 0s 0s/step - loss: 1.7211 - accuracy: 0.3210\n",
      "Epoch 36/200\n",
      "3/3 [==============================] - 0s 8ms/step - loss: 1.7004 - accuracy: 0.3333\n",
      "Epoch 37/200\n",
      "3/3 [==============================] - 0s 8ms/step - loss: 1.6803 - accuracy: 0.3580\n",
      "Epoch 38/200\n",
      "3/3 [==============================] - 0s 0s/step - loss: 1.6577 - accuracy: 0.3580\n",
      "Epoch 39/200\n",
      "3/3 [==============================] - 0s 8ms/step - loss: 1.6348 - accuracy: 0.3951\n",
      "Epoch 40/200\n",
      "3/3 [==============================] - 0s 0s/step - loss: 1.6122 - accuracy: 0.4198\n",
      "Epoch 41/200\n",
      "3/3 [==============================] - 0s 8ms/step - loss: 1.5896 - accuracy: 0.4321\n",
      "Epoch 42/200\n",
      "3/3 [==============================] - 0s 8ms/step - loss: 1.5649 - accuracy: 0.4815\n",
      "Epoch 43/200\n",
      "3/3 [==============================] - 0s 8ms/step - loss: 1.5407 - accuracy: 0.4815\n",
      "Epoch 44/200\n",
      "3/3 [==============================] - 0s 8ms/step - loss: 1.5154 - accuracy: 0.4938\n",
      "Epoch 45/200\n",
      "3/3 [==============================] - 0s 8ms/step - loss: 1.4907 - accuracy: 0.5062\n",
      "Epoch 46/200\n",
      "3/3 [==============================] - 0s 8ms/step - loss: 1.4666 - accuracy: 0.5309\n",
      "Epoch 47/200\n",
      "3/3 [==============================] - 0s 8ms/step - loss: 1.4388 - accuracy: 0.6173\n",
      "Epoch 48/200\n",
      "3/3 [==============================] - 0s 8ms/step - loss: 1.4123 - accuracy: 0.6049\n",
      "Epoch 49/200\n",
      "3/3 [==============================] - 0s 0s/step - loss: 1.3864 - accuracy: 0.6049\n",
      "Epoch 50/200\n",
      "3/3 [==============================] - 0s 8ms/step - loss: 1.3607 - accuracy: 0.6296\n",
      "Epoch 51/200\n",
      "3/3 [==============================] - 0s 0s/step - loss: 1.3339 - accuracy: 0.6543\n",
      "Epoch 52/200\n",
      "3/3 [==============================] - 0s 8ms/step - loss: 1.3064 - accuracy: 0.6420\n",
      "Epoch 53/200\n",
      "3/3 [==============================] - 0s 8ms/step - loss: 1.2787 - accuracy: 0.6543\n",
      "Epoch 54/200\n",
      "3/3 [==============================] - 0s 8ms/step - loss: 1.2531 - accuracy: 0.6420\n",
      "Epoch 55/200\n",
      "3/3 [==============================] - 0s 8ms/step - loss: 1.2260 - accuracy: 0.6420\n",
      "Epoch 56/200\n",
      "3/3 [==============================] - 0s 0s/step - loss: 1.1983 - accuracy: 0.6790\n",
      "Epoch 57/200\n",
      "3/3 [==============================] - 0s 8ms/step - loss: 1.1738 - accuracy: 0.6790\n",
      "Epoch 58/200\n",
      "3/3 [==============================] - 0s 8ms/step - loss: 1.1457 - accuracy: 0.6790\n",
      "Epoch 59/200\n",
      "3/3 [==============================] - 0s 8ms/step - loss: 1.1215 - accuracy: 0.6790\n",
      "Epoch 60/200\n",
      "3/3 [==============================] - 0s 8ms/step - loss: 1.0957 - accuracy: 0.6790\n",
      "Epoch 61/200\n",
      "3/3 [==============================] - 0s 0s/step - loss: 1.0715 - accuracy: 0.6790\n",
      "Epoch 62/200\n",
      "3/3 [==============================] - 0s 8ms/step - loss: 1.0463 - accuracy: 0.6667\n",
      "Epoch 63/200\n",
      "3/3 [==============================] - 0s 8ms/step - loss: 1.0231 - accuracy: 0.6790\n",
      "Epoch 64/200\n",
      "3/3 [==============================] - 0s 8ms/step - loss: 0.9981 - accuracy: 0.6790\n",
      "Epoch 65/200\n",
      "3/3 [==============================] - 0s 8ms/step - loss: 0.9758 - accuracy: 0.7037\n",
      "Epoch 66/200\n",
      "3/3 [==============================] - 0s 0s/step - loss: 0.9518 - accuracy: 0.7284\n",
      "Epoch 67/200\n",
      "3/3 [==============================] - 0s 8ms/step - loss: 0.9313 - accuracy: 0.7284\n",
      "Epoch 68/200\n",
      "3/3 [==============================] - 0s 8ms/step - loss: 0.9074 - accuracy: 0.7778\n",
      "Epoch 69/200\n",
      "3/3 [==============================] - 0s 0s/step - loss: 0.8868 - accuracy: 0.7901\n",
      "Epoch 70/200\n",
      "3/3 [==============================] - 0s 8ms/step - loss: 0.8653 - accuracy: 0.8025\n",
      "Epoch 71/200\n",
      "3/3 [==============================] - 0s 8ms/step - loss: 0.8467 - accuracy: 0.8148\n",
      "Epoch 72/200\n",
      "3/3 [==============================] - 0s 8ms/step - loss: 0.8262 - accuracy: 0.8272\n",
      "Epoch 73/200\n",
      "3/3 [==============================] - 0s 8ms/step - loss: 0.8090 - accuracy: 0.8519\n",
      "Epoch 74/200\n",
      "3/3 [==============================] - 0s 8ms/step - loss: 0.7911 - accuracy: 0.8519\n",
      "Epoch 75/200\n",
      "3/3 [==============================] - 0s 8ms/step - loss: 0.7742 - accuracy: 0.8519\n",
      "Epoch 76/200\n",
      "3/3 [==============================] - 0s 0s/step - loss: 0.7572 - accuracy: 0.8642\n",
      "Epoch 77/200\n",
      "3/3 [==============================] - 0s 8ms/step - loss: 0.7409 - accuracy: 0.8642\n",
      "Epoch 78/200\n",
      "3/3 [==============================] - 0s 8ms/step - loss: 0.7260 - accuracy: 0.8642\n",
      "Epoch 79/200\n",
      "3/3 [==============================] - 0s 8ms/step - loss: 0.7122 - accuracy: 0.8642\n",
      "Epoch 80/200\n",
      "3/3 [==============================] - 0s 8ms/step - loss: 0.6980 - accuracy: 0.8642\n",
      "Epoch 81/200\n",
      "3/3 [==============================] - 0s 8ms/step - loss: 0.6842 - accuracy: 0.8889\n",
      "Epoch 82/200\n",
      "3/3 [==============================] - 0s 8ms/step - loss: 0.6712 - accuracy: 0.8889\n",
      "Epoch 83/200\n",
      "3/3 [==============================] - 0s 8ms/step - loss: 0.6587 - accuracy: 0.8889\n",
      "Epoch 84/200\n",
      "3/3 [==============================] - 0s 8ms/step - loss: 0.6471 - accuracy: 0.8765\n",
      "Epoch 85/200\n",
      "3/3 [==============================] - 0s 8ms/step - loss: 0.6353 - accuracy: 0.8642\n",
      "Epoch 86/200\n",
      "3/3 [==============================] - 0s 8ms/step - loss: 0.6251 - accuracy: 0.8642\n",
      "Epoch 87/200\n",
      "3/3 [==============================] - 0s 8ms/step - loss: 0.6124 - accuracy: 0.8889\n",
      "Epoch 88/200\n",
      "3/3 [==============================] - 0s 0s/step - loss: 0.6025 - accuracy: 0.8889\n",
      "Epoch 89/200\n",
      "3/3 [==============================] - 0s 8ms/step - loss: 0.5920 - accuracy: 0.8889\n",
      "Epoch 90/200\n",
      "3/3 [==============================] - 0s 11ms/step - loss: 0.5816 - accuracy: 0.9012\n",
      "Epoch 91/200\n",
      "3/3 [==============================] - 0s 8ms/step - loss: 0.5720 - accuracy: 0.9012\n",
      "Epoch 92/200\n",
      "3/3 [==============================] - 0s 10ms/step - loss: 0.5630 - accuracy: 0.9012\n",
      "Epoch 93/200\n",
      "3/3 [==============================] - 0s 8ms/step - loss: 0.5535 - accuracy: 0.9012\n",
      "Epoch 94/200\n",
      "3/3 [==============================] - 0s 8ms/step - loss: 0.5449 - accuracy: 0.9012\n",
      "Epoch 95/200\n",
      "3/3 [==============================] - 0s 8ms/step - loss: 0.5364 - accuracy: 0.8765\n",
      "Epoch 96/200\n",
      "3/3 [==============================] - 0s 8ms/step - loss: 0.5280 - accuracy: 0.9012\n",
      "Epoch 97/200\n",
      "3/3 [==============================] - 0s 0s/step - loss: 0.5190 - accuracy: 0.9012\n",
      "Epoch 98/200\n",
      "3/3 [==============================] - 0s 8ms/step - loss: 0.5115 - accuracy: 0.9136\n",
      "Epoch 99/200\n",
      "3/3 [==============================] - 0s 0s/step - loss: 0.5044 - accuracy: 0.9259\n",
      "Epoch 100/200\n",
      "3/3 [==============================] - 0s 8ms/step - loss: 0.4958 - accuracy: 0.9383\n",
      "Epoch 101/200\n",
      "3/3 [==============================] - 0s 0s/step - loss: 0.4894 - accuracy: 0.9012\n",
      "Epoch 102/200\n",
      "3/3 [==============================] - 0s 8ms/step - loss: 0.4811 - accuracy: 0.9012\n",
      "Epoch 103/200\n",
      "3/3 [==============================] - 0s 0s/step - loss: 0.4753 - accuracy: 0.9136\n",
      "Epoch 104/200\n",
      "3/3 [==============================] - 0s 8ms/step - loss: 0.4667 - accuracy: 0.9136\n",
      "Epoch 105/200\n",
      "3/3 [==============================] - 0s 8ms/step - loss: 0.4597 - accuracy: 0.9136\n",
      "Epoch 106/200\n",
      "3/3 [==============================] - 0s 8ms/step - loss: 0.4533 - accuracy: 0.9136\n",
      "Epoch 107/200\n",
      "3/3 [==============================] - 0s 8ms/step - loss: 0.4454 - accuracy: 0.9012\n",
      "Epoch 108/200\n",
      "3/3 [==============================] - 0s 0s/step - loss: 0.4396 - accuracy: 0.9012\n",
      "Epoch 109/200\n",
      "3/3 [==============================] - 0s 8ms/step - loss: 0.4339 - accuracy: 0.9012\n",
      "Epoch 110/200\n",
      "3/3 [==============================] - 0s 8ms/step - loss: 0.4264 - accuracy: 0.9012\n",
      "Epoch 111/200\n",
      "3/3 [==============================] - 0s 8ms/step - loss: 0.4204 - accuracy: 0.9012\n",
      "Epoch 112/200\n",
      "3/3 [==============================] - 0s 8ms/step - loss: 0.4137 - accuracy: 0.8889\n",
      "Epoch 113/200\n",
      "3/3 [==============================] - 0s 8ms/step - loss: 0.4077 - accuracy: 0.8889\n",
      "Epoch 114/200\n",
      "3/3 [==============================] - 0s 8ms/step - loss: 0.4008 - accuracy: 0.9012\n",
      "Epoch 115/200\n",
      "3/3 [==============================] - 0s 0s/step - loss: 0.3958 - accuracy: 0.9136\n",
      "Epoch 116/200\n",
      "3/3 [==============================] - 0s 8ms/step - loss: 0.3893 - accuracy: 0.9259\n",
      "Epoch 117/200\n",
      "3/3 [==============================] - 0s 8ms/step - loss: 0.3827 - accuracy: 0.9259\n",
      "Epoch 118/200\n",
      "3/3 [==============================] - 0s 8ms/step - loss: 0.3772 - accuracy: 0.9259\n",
      "Epoch 119/200\n",
      "3/3 [==============================] - 0s 8ms/step - loss: 0.3717 - accuracy: 0.9259\n",
      "Epoch 120/200\n",
      "3/3 [==============================] - 0s 0s/step - loss: 0.3658 - accuracy: 0.9383\n",
      "Epoch 121/200\n",
      "3/3 [==============================] - 0s 8ms/step - loss: 0.3607 - accuracy: 0.9383\n",
      "Epoch 122/200\n",
      "3/3 [==============================] - 0s 8ms/step - loss: 0.3548 - accuracy: 0.9383\n",
      "Epoch 123/200\n",
      "3/3 [==============================] - 0s 8ms/step - loss: 0.3494 - accuracy: 0.9383\n",
      "Epoch 124/200\n",
      "3/3 [==============================] - 0s 8ms/step - loss: 0.3441 - accuracy: 0.9383\n",
      "Epoch 125/200\n",
      "3/3 [==============================] - 0s 8ms/step - loss: 0.3406 - accuracy: 0.9259\n",
      "Epoch 126/200\n",
      "3/3 [==============================] - 0s 8ms/step - loss: 0.3349 - accuracy: 0.9259\n",
      "Epoch 127/200\n",
      "3/3 [==============================] - 0s 0s/step - loss: 0.3284 - accuracy: 0.9506\n",
      "Epoch 128/200\n",
      "3/3 [==============================] - 0s 8ms/step - loss: 0.3230 - accuracy: 0.9506\n",
      "Epoch 129/200\n",
      "3/3 [==============================] - 0s 0s/step - loss: 0.3189 - accuracy: 0.9506\n",
      "Epoch 130/200\n",
      "3/3 [==============================] - 0s 8ms/step - loss: 0.3132 - accuracy: 0.9753\n",
      "Epoch 131/200\n",
      "3/3 [==============================] - 0s 8ms/step - loss: 0.3098 - accuracy: 0.9630\n",
      "Epoch 132/200\n",
      "3/3 [==============================] - 0s 8ms/step - loss: 0.3044 - accuracy: 0.9506\n",
      "Epoch 133/200\n",
      "3/3 [==============================] - 0s 8ms/step - loss: 0.2989 - accuracy: 0.9506\n",
      "Epoch 134/200\n",
      "3/3 [==============================] - 0s 8ms/step - loss: 0.2931 - accuracy: 0.9753\n",
      "Epoch 135/200\n",
      "3/3 [==============================] - 0s 8ms/step - loss: 0.2904 - accuracy: 0.9753\n",
      "Epoch 136/200\n",
      "3/3 [==============================] - 0s 8ms/step - loss: 0.2859 - accuracy: 0.9753\n",
      "Epoch 137/200\n",
      "3/3 [==============================] - 0s 8ms/step - loss: 0.2804 - accuracy: 0.9753\n",
      "Epoch 138/200\n",
      "3/3 [==============================] - 0s 0s/step - loss: 0.2774 - accuracy: 0.9630\n",
      "Epoch 139/200\n",
      "3/3 [==============================] - 0s 8ms/step - loss: 0.2716 - accuracy: 0.9630\n",
      "Epoch 140/200\n",
      "3/3 [==============================] - 0s 8ms/step - loss: 0.2673 - accuracy: 0.9753\n",
      "Epoch 141/200\n",
      "3/3 [==============================] - 0s 8ms/step - loss: 0.2637 - accuracy: 0.9753\n",
      "Epoch 142/200\n",
      "3/3 [==============================] - 0s 8ms/step - loss: 0.2577 - accuracy: 0.9753\n",
      "Epoch 143/200\n",
      "3/3 [==============================] - 0s 8ms/step - loss: 0.2541 - accuracy: 0.9753\n",
      "Epoch 144/200\n",
      "3/3 [==============================] - 0s 8ms/step - loss: 0.2500 - accuracy: 0.9753\n",
      "Epoch 145/200\n",
      "3/3 [==============================] - 0s 8ms/step - loss: 0.2461 - accuracy: 0.9753\n",
      "Epoch 146/200\n",
      "3/3 [==============================] - 0s 8ms/step - loss: 0.2427 - accuracy: 0.9753\n",
      "Epoch 147/200\n",
      "3/3 [==============================] - 0s 8ms/step - loss: 0.2406 - accuracy: 0.9753\n",
      "Epoch 148/200\n",
      "3/3 [==============================] - 0s 8ms/step - loss: 0.2366 - accuracy: 0.9877\n",
      "Epoch 149/200\n",
      "3/3 [==============================] - 0s 5ms/step - loss: 0.2305 - accuracy: 0.9877\n",
      "Epoch 150/200\n",
      "3/3 [==============================] - 0s 8ms/step - loss: 0.2269 - accuracy: 0.9877\n",
      "Epoch 151/200\n",
      "3/3 [==============================] - 0s 8ms/step - loss: 0.2230 - accuracy: 1.0000\n",
      "Epoch 152/200\n",
      "3/3 [==============================] - 0s 8ms/step - loss: 0.2192 - accuracy: 1.0000\n",
      "Epoch 153/200\n",
      "3/3 [==============================] - 0s 8ms/step - loss: 0.2166 - accuracy: 1.0000\n",
      "Epoch 154/200\n",
      "3/3 [==============================] - 0s 8ms/step - loss: 0.2144 - accuracy: 1.0000\n",
      "Epoch 155/200\n",
      "3/3 [==============================] - 0s 8ms/step - loss: 0.2095 - accuracy: 1.0000\n",
      "Epoch 156/200\n",
      "3/3 [==============================] - 0s 8ms/step - loss: 0.2064 - accuracy: 1.0000\n",
      "Epoch 157/200\n",
      "3/3 [==============================] - 0s 8ms/step - loss: 0.2031 - accuracy: 1.0000\n",
      "Epoch 158/200\n",
      "3/3 [==============================] - 0s 8ms/step - loss: 0.2001 - accuracy: 1.0000\n",
      "Epoch 159/200\n",
      "3/3 [==============================] - 0s 8ms/step - loss: 0.1972 - accuracy: 1.0000\n",
      "Epoch 160/200\n",
      "3/3 [==============================] - 0s 8ms/step - loss: 0.1945 - accuracy: 1.0000\n",
      "Epoch 161/200\n",
      "3/3 [==============================] - 0s 8ms/step - loss: 0.1911 - accuracy: 1.0000\n",
      "Epoch 162/200\n",
      "3/3 [==============================] - 0s 8ms/step - loss: 0.1886 - accuracy: 1.0000\n",
      "Epoch 163/200\n",
      "3/3 [==============================] - 0s 8ms/step - loss: 0.1858 - accuracy: 1.0000\n",
      "Epoch 164/200\n",
      "3/3 [==============================] - 0s 8ms/step - loss: 0.1826 - accuracy: 1.0000\n",
      "Epoch 165/200\n",
      "3/3 [==============================] - 0s 8ms/step - loss: 0.1805 - accuracy: 1.0000\n",
      "Epoch 166/200\n",
      "3/3 [==============================] - 0s 0s/step - loss: 0.1777 - accuracy: 1.0000\n",
      "Epoch 167/200\n",
      "3/3 [==============================] - 0s 8ms/step - loss: 0.1747 - accuracy: 1.0000\n",
      "Epoch 168/200\n",
      "3/3 [==============================] - 0s 8ms/step - loss: 0.1736 - accuracy: 0.9877\n",
      "Epoch 169/200\n",
      "3/3 [==============================] - 0s 8ms/step - loss: 0.1726 - accuracy: 1.0000\n",
      "Epoch 170/200\n",
      "3/3 [==============================] - 0s 8ms/step - loss: 0.1675 - accuracy: 1.0000\n",
      "Epoch 171/200\n",
      "3/3 [==============================] - 0s 8ms/step - loss: 0.1650 - accuracy: 1.0000\n",
      "Epoch 172/200\n",
      "3/3 [==============================] - 0s 8ms/step - loss: 0.1626 - accuracy: 1.0000\n",
      "Epoch 173/200\n",
      "3/3 [==============================] - 0s 8ms/step - loss: 0.1604 - accuracy: 1.0000\n",
      "Epoch 174/200\n",
      "3/3 [==============================] - 0s 8ms/step - loss: 0.1585 - accuracy: 1.0000\n",
      "Epoch 175/200\n",
      "3/3 [==============================] - 0s 8ms/step - loss: 0.1560 - accuracy: 1.0000\n",
      "Epoch 176/200\n",
      "3/3 [==============================] - 0s 0s/step - loss: 0.1539 - accuracy: 1.0000\n",
      "Epoch 177/200\n",
      "3/3 [==============================] - 0s 8ms/step - loss: 0.1531 - accuracy: 1.0000\n",
      "Epoch 178/200\n",
      "3/3 [==============================] - 0s 8ms/step - loss: 0.1512 - accuracy: 1.0000\n",
      "Epoch 179/200\n",
      "3/3 [==============================] - 0s 0s/step - loss: 0.1477 - accuracy: 1.0000\n",
      "Epoch 180/200\n",
      "3/3 [==============================] - 0s 8ms/step - loss: 0.1456 - accuracy: 1.0000\n",
      "Epoch 181/200\n",
      "3/3 [==============================] - 0s 8ms/step - loss: 0.1441 - accuracy: 1.0000\n",
      "Epoch 182/200\n",
      "3/3 [==============================] - 0s 8ms/step - loss: 0.1420 - accuracy: 1.0000\n",
      "Epoch 183/200\n",
      "3/3 [==============================] - 0s 8ms/step - loss: 0.1399 - accuracy: 1.0000\n",
      "Epoch 184/200\n",
      "3/3 [==============================] - 0s 0s/step - loss: 0.1380 - accuracy: 1.0000\n",
      "Epoch 185/200\n",
      "3/3 [==============================] - 0s 8ms/step - loss: 0.1365 - accuracy: 1.0000\n",
      "Epoch 186/200\n",
      "3/3 [==============================] - 0s 8ms/step - loss: 0.1341 - accuracy: 1.0000\n",
      "Epoch 187/200\n",
      "3/3 [==============================] - 0s 0s/step - loss: 0.1336 - accuracy: 1.0000\n",
      "Epoch 188/200\n",
      "3/3 [==============================] - 0s 8ms/step - loss: 0.1322 - accuracy: 1.0000\n",
      "Epoch 189/200\n",
      "3/3 [==============================] - 0s 8ms/step - loss: 0.1291 - accuracy: 1.0000\n",
      "Epoch 190/200\n",
      "3/3 [==============================] - 0s 8ms/step - loss: 0.1274 - accuracy: 1.0000\n",
      "Epoch 191/200\n",
      "3/3 [==============================] - 0s 8ms/step - loss: 0.1266 - accuracy: 1.0000\n",
      "Epoch 192/200\n",
      "3/3 [==============================] - 0s 8ms/step - loss: 0.1242 - accuracy: 1.0000\n",
      "Epoch 193/200\n",
      "3/3 [==============================] - 0s 8ms/step - loss: 0.1230 - accuracy: 1.0000\n",
      "Epoch 194/200\n",
      "3/3 [==============================] - 0s 8ms/step - loss: 0.1213 - accuracy: 1.0000\n",
      "Epoch 195/200\n",
      "3/3 [==============================] - 0s 0s/step - loss: 0.1196 - accuracy: 1.0000\n",
      "Epoch 196/200\n",
      "3/3 [==============================] - 0s 8ms/step - loss: 0.1181 - accuracy: 1.0000\n",
      "Epoch 197/200\n",
      "3/3 [==============================] - 0s 8ms/step - loss: 0.1171 - accuracy: 1.0000\n",
      "Epoch 198/200\n",
      "3/3 [==============================] - 0s 6ms/step - loss: 0.1159 - accuracy: 1.0000\n",
      "Epoch 199/200\n",
      "3/3 [==============================] - 0s 8ms/step - loss: 0.1139 - accuracy: 1.0000\n",
      "Epoch 200/200\n",
      "3/3 [==============================] - 0s 8ms/step - loss: 0.1125 - accuracy: 1.0000\n"
     ]
    }
   ],
   "source": [
    "#training the model\n",
    "train = model.fit(x_train,y_train,epochs=200)"
   ]
  },
  {
   "cell_type": "markdown",
   "metadata": {
    "pycharm": {
     "name": "#%% md\n"
    }
   },
   "source": [
    "<h2> Model Analysis </h2>\n",
    "\n",
    "The model got a perfect accuracy of 100%. "
   ]
  },
  {
   "cell_type": "code",
   "execution_count": 14,
   "metadata": {
    "colab": {
     "base_uri": "https://localhost:8080/",
     "height": 282
    },
    "id": "BcWCycGSLbeB",
    "outputId": "b8a60f76-7488-466e-8950-3d42b4b7b4c3",
    "pycharm": {
     "name": "#%%\n"
    }
   },
   "outputs": [
    {
     "data": {
      "text/plain": "<matplotlib.legend.Legend at 0x14c86cab048>"
     },
     "execution_count": 14,
     "metadata": {},
     "output_type": "execute_result"
    },
    {
     "data": {
      "text/plain": "<Figure size 640x480 with 1 Axes>",
      "image/png": "[encoded data removed]"
     },
     "metadata": {},
     "output_type": "display_data"
    }
   ],
   "source": [
    "#plotting model accuracy\n",
    "plt.plot(train.history['accuracy'],label='training set accuracy')\n",
    "plt.plot(train.history['loss'],label='training set loss')\n",
    "plt.legend()"
   ]
  },
  {
   "cell_type": "markdown",
   "metadata": {
    "pycharm": {
     "name": "#%% md\n"
    }
   },
   "source": [
    "<h2> Testing </h2>\n",
    "\n",
    "I have also tested the model in a way to mimic a human interacting with a bot and got positive results. however, This was very simple because of the tiny amount of data that I have created. but, the same model can also be used with large amount of data"
   ]
  },
  {
   "cell_type": "code",
   "execution_count": 15,
   "metadata": {
    "colab": {
     "base_uri": "https://localhost:8080/",
     "height": 241
    },
    "id": "71ITeJqtfV0s",
    "outputId": "8da86848-8252-4ced-b535-df0c03edfaa4",
    "pycharm": {
     "name": "#%%\n"
    }
   },
   "outputs": [
    {
     "name": "stdout",
     "output_type": "stream",
     "text": [
      "Going Merry :  Doing good.Thanks you are my best friend\n",
      "Going Merry :  Goodbye\n"
     ]
    }
   ],
   "source": [
    "#chatting\n",
    "import random\n",
    "\n",
    "\n",
    "while True:\n",
    "  texts_p = []\n",
    "  prediction_input = input('You : ')\n",
    "\n",
    "  #removing punctuation and converting to lowercase\n",
    "  prediction_input = [letters.lower() for letters in prediction_input if letters not in string.punctuation]\n",
    "  prediction_input = ''.join(prediction_input)\n",
    "  texts_p.append(prediction_input)\n",
    "\n",
    "  #tokenizing and padding\n",
    "  prediction_input = tokenizer.texts_to_sequences(texts_p)\n",
    "  prediction_input = np.array(prediction_input).reshape(-1)\n",
    "  prediction_input = pad_sequences([prediction_input],input_shape)\n",
    "\n",
    "  #getting output from model\n",
    "  output = model.predict(prediction_input)\n",
    "  output = output.argmax()\n",
    "\n",
    "  #finding the right tag and predicting\n",
    "  response_tag = le.inverse_transform([output])[0]\n",
    "\n",
    "  #convert the predicted text output to speech output\n",
    "  text_response = random.choice(responses[response_tag])\n",
    "  audio_response = gTTS(text=text_response, lang=\"en\", slow=False)\n",
    "  print(\"Going Merry : \", text_response)\n",
    "  audio_response.save(\"example.mp3\")\n",
    "  os.system(\"start example.mp3\")\n",
    "\n",
    "  if response_tag == \"goodbye\":\n",
    "    break"
   ]
  },
  {
   "cell_type": "markdown",
   "metadata": {
    "pycharm": {
     "name": "#%% md\n"
    }
   },
   "source": [
    "<h2> Conclusion </h2>\n",
    "So, This is the Chatbot that I have created with tensorflow2 utilizing the power of embedding matrix.<br>\n",
    "This was created in memory og <b> Going Merry </b> , a ship from a manga called \"One Piece\" which revolves around the story of 5 pirates. "
   ]
  }
 ],
 "metadata": {
  "colab": {
   "collapsed_sections": [],
   "name": "chatbot.ipynb",
   "provenance": [],
   "toc_visible": true
  },
  "kernelspec": {
   "display_name": "Python 3",
   "language": "python",
   "name": "python3"
  },
  "language_info": {
   "codemirror_mode": {
    "name": "ipython",
    "version": 3
   },
   "file_extension": ".py",
   "mimetype": "text/x-python",
   "name": "python",
   "nbconvert_exporter": "python",
   "pygments_lexer": "ipython3",
   "version": "3.8.3"
  }
 },
 "nbformat": 4,
 "nbformat_minor": 1
}